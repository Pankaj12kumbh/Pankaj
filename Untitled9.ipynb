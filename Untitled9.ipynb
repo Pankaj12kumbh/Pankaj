{
 "cells": [
  {
   "cell_type": "code",
   "execution_count": 1,
   "id": "b67a9df6-e6ea-4ece-b80f-7aae2262a7c2",
   "metadata": {},
   "outputs": [],
   "source": [
    "import numpy as np\n",
    "import pandas as pd"
   ]
  },
  {
   "cell_type": "code",
   "execution_count": 2,
   "id": "637dbab3-2ac1-40bf-ae6b-cd89e5de6b81",
   "metadata": {},
   "outputs": [
    {
     "name": "stdout",
     "output_type": "stream",
     "text": [
      "15\n"
     ]
    }
   ],
   "source": [
    "s='prateek.rathore@gmail.com'\n",
    "n=s.index('@')\n",
    "print(n)"
   ]
  },
  {
   "cell_type": "code",
   "execution_count": 3,
   "id": "3510eb0d-6f6c-4c9a-96ff-2b10ea6594fa",
   "metadata": {},
   "outputs": [
    {
     "data": {
      "text/plain": [
       "'gmail.com'"
      ]
     },
     "execution_count": 3,
     "metadata": {},
     "output_type": "execute_result"
    }
   ],
   "source": [
    "s[n+1:]"
   ]
  },
  {
   "cell_type": "code",
   "execution_count": 4,
   "id": "be7110b5-eaef-4269-b287-93e9b65f81f2",
   "metadata": {},
   "outputs": [
    {
     "data": {
      "text/plain": [
       "'prateek.rathore'"
      ]
     },
     "execution_count": 4,
     "metadata": {},
     "output_type": "execute_result"
    }
   ],
   "source": [
    "s[:n]"
   ]
  },
  {
   "cell_type": "code",
   "execution_count": 5,
   "id": "191b8467-4c62-4326-95ba-c5fceeb005d7",
   "metadata": {},
   "outputs": [
    {
     "name": "stdout",
     "output_type": "stream",
     "text": [
      "[13]\n"
     ]
    }
   ],
   "source": [
    "#Multiple Indexing\n",
    "\n",
    "id=\"pankaj12kumbh@gmail.com\"\n",
    "m='@'\n",
    "p=([a for a ,char in enumerate (id) if char==m])\n",
    "print(p)"
   ]
  },
  {
   "cell_type": "code",
   "execution_count": 6,
   "id": "37c30ef1-9c4a-43a2-a5ac-0ed76c290f86",
   "metadata": {},
   "outputs": [
    {
     "name": "stdout",
     "output_type": "stream",
     "text": [
      "the quick brown fox jumps over the lazy dog  the cow jupms over the moon  the dog fox apple black brown \n"
     ]
    }
   ],
   "source": [
    "w=\"the quick brown fox jumps over the lazy dog. the cow jumps over the moon. the dog fox apple black brown.\"\n",
    "wc={}\n",
    "w=w.replace(\"\\n\",\" \")\n",
    "w=w.replace(\".\",\" \")\n",
    "print(w)"
   ]
  },
  {
   "cell_type": "code",
   "execution_count": 9,
   "id": "5df90b96-999e-4300-8717-0ad6174c596a",
   "metadata": {},
   "outputs": [
    {
     "name": "stdout",
     "output_type": "stream",
     "text": [
      "5\n",
      "5\n",
      "5\n",
      "5\n",
      "5\n"
     ]
    }
   ],
   "source": [
    "for wa in w.split(\" \"):\n",
    "    wc[wa]=len(wa)\n",
    "    if len(wa)>0:\n",
    "        if wa == \"the\":\n",
    "            wc[wa]=wc.get(wa,0)+1\n",
    "            print(wc.get(wa,0)+1)"
   ]
  },
  {
   "cell_type": "code",
   "execution_count": 10,
   "id": "24a20236-f4b3-4184-9c6d-c8c8ab29be7c",
   "metadata": {},
   "outputs": [
    {
     "name": "stdout",
     "output_type": "stream",
     "text": [
      "{'the': 4, 'quick': 5, 'brown': 5, 'fox': 3, 'jumps': 5, 'over': 4, 'lazy': 4, 'dog': 3, 'cow': 3, 'jupms': 5, 'moon': 4, 'apple': 5, 'black': 5, '': 0}\n"
     ]
    }
   ],
   "source": [
    "print(wc)"
   ]
  },
  {
   "cell_type": "code",
   "execution_count": 12,
   "id": "8bbd243d-59b9-413c-ba8d-d70b389981f1",
   "metadata": {},
   "outputs": [
    {
     "name": "stdout",
     "output_type": "stream",
     "text": [
      "Counter({' ': 23, 'o': 11, 'e': 8, 't': 5, 'h': 5, 'r': 4, 'p': 4, 'u': 3, 'c': 3, 'b': 3, 'w': 3, 'n': 3, 'm': 3, 'l': 3, 'a': 3, 'k': 2, 'f': 2, 'x': 2, 'j': 2, 's': 2, 'v': 2, 'd': 2, 'g': 2, 'q': 1, 'i': 1, 'z': 1, 'y': 1})\n"
     ]
    }
   ],
   "source": [
    "from collections import Counter\n",
    "x=Counter(w)\n",
    "print(x)"
   ]
  },
  {
   "cell_type": "code",
   "execution_count": 13,
   "id": "00631f8b-1c0c-49ff-9eaf-4f80dd6533b2",
   "metadata": {},
   "outputs": [
    {
     "name": "stdout",
     "output_type": "stream",
     "text": [
      "Counter({'e': 5, 'd': 4, 'c': 3, 'b': 2, 'a': 1})\n"
     ]
    }
   ],
   "source": [
    "s=\"abbcccddddeeeee\"\n",
    "from collections import Counter\n",
    "x=Counter(s)\n",
    "print(x)"
   ]
  },
  {
   "cell_type": "code",
   "execution_count": 14,
   "id": "965105ea-4611-4b36-9006-fda50fbe36b5",
   "metadata": {},
   "outputs": [
    {
     "name": "stdout",
     "output_type": "stream",
     "text": [
      "['Hello,', 'please', 'meet', 'me', 'at', '4pm', '@', 'coffee', 'house', 'or', 'email', 'me', 'python@gmail.com']\n"
     ]
    },
    {
     "name": "stdin",
     "output_type": "stream",
     "text": [
      "Enter Your word 4pm\n"
     ]
    },
    {
     "name": "stdout",
     "output_type": "stream",
     "text": [
      "Occurance of your word is:  0\n"
     ]
    }
   ],
   "source": [
    "s=\"Hello, please meet me at 4pm @ coffee house or email me python@gmail.com\" \n",
    "s1=s.split()\n",
    "print(s1)\n",
    "word=input('Enter Your word')\n",
    "count=0\n",
    "for i in s1:\n",
    "    if(i==word):\n",
    "        print(\"Occurance of your word is: \",count)"
   ]
  },
  {
   "cell_type": "code",
   "execution_count": 15,
   "id": "e062568e-c4a8-4f15-a8a9-0310550880df",
   "metadata": {},
   "outputs": [
    {
     "name": "stdout",
     "output_type": "stream",
     "text": [
      " python@gmail.com\n",
      " python@gmail\n"
     ]
    }
   ],
   "source": [
    "s1=s[55: :]\n",
    "print(s1)\n",
    "a=s1.split('.')[0]\n",
    "print(a)"
   ]
  },
  {
   "cell_type": "code",
   "execution_count": 16,
   "id": "24d5054a-fe5d-48af-beb7-6a1ebe5bb334",
   "metadata": {},
   "outputs": [
    {
     "name": "stdout",
     "output_type": "stream",
     "text": [
      "<class 'tuple'>\n"
     ]
    }
   ],
   "source": [
    "a=(1,2,[4,5,6],7)\n",
    "print(type(a))"
   ]
  },
  {
   "cell_type": "code",
   "execution_count": 17,
   "id": "3b0e5c5d-c34f-466e-a0e1-f612e7c00a63",
   "metadata": {},
   "outputs": [
    {
     "data": {
      "text/plain": [
       "[1, 100, 3, 4]"
      ]
     },
     "execution_count": 17,
     "metadata": {},
     "output_type": "execute_result"
    }
   ],
   "source": [
    "b=[1,2,3,4]\n",
    "b[1]=100\n",
    "b"
   ]
  },
  {
   "cell_type": "code",
   "execution_count": 18,
   "id": "4d478462-8eaa-4bf2-878e-e81e70c2dda3",
   "metadata": {},
   "outputs": [
    {
     "data": {
      "text/plain": [
       "[4, 5, 6]"
      ]
     },
     "execution_count": 18,
     "metadata": {},
     "output_type": "execute_result"
    }
   ],
   "source": [
    "a[2]"
   ]
  },
  {
   "cell_type": "code",
   "execution_count": 21,
   "id": "44acd78a-2b53-4016-ba81-32c5afa28a78",
   "metadata": {},
   "outputs": [
    {
     "data": {
      "text/plain": [
       "(1, 2, [4, 100, 6], 7)"
      ]
     },
     "execution_count": 21,
     "metadata": {},
     "output_type": "execute_result"
    }
   ],
   "source": [
    "a[2][1]=100\n",
    "a"
   ]
  },
  {
   "cell_type": "code",
   "execution_count": 22,
   "id": "901debc3-1050-4b3d-87db-002fc6562a0a",
   "metadata": {},
   "outputs": [
    {
     "name": "stdout",
     "output_type": "stream",
     "text": [
      "['3', '4', '5'] list string values changes to new number [3, 4, 5]\n"
     ]
    }
   ],
   "source": [
    "# MAP  AND REDUCE\n",
    "num=['3','4','5']\n",
    "new_num=list(map(int,num))\n",
    "print(f'{num} list string values changes to new number {new_num}')\n"
   ]
  },
  {
   "cell_type": "code",
   "execution_count": 23,
   "id": "0855eee5-daee-4f45-86a3-5f507aed5e18",
   "metadata": {},
   "outputs": [
    {
     "name": "stdout",
     "output_type": "stream",
     "text": [
      "[4, 6, 8, 12]\n",
      "[4, 6, 8, 12]\n"
     ]
    }
   ],
   "source": [
    "#Filter\n",
    "mlist=[1,5,4,6,8,11,3,12]\n",
    "x1=list(filter(lambda x:(x%2==0),mlist))\n",
    "print(list(filter(lambda x:(x%2==0),mlist)))\n",
    "print(x1)"
   ]
  },
  {
   "cell_type": "code",
   "execution_count": 24,
   "id": "5ca41826-9d94-4b54-a08a-d2ddcaf9caaa",
   "metadata": {},
   "outputs": [
    {
     "data": {
      "text/plain": [
       "15"
      ]
     },
     "execution_count": 24,
     "metadata": {},
     "output_type": "execute_result"
    }
   ],
   "source": [
    "#REDUCE\n",
    "from functools import reduce\n",
    "num1=[1,2,3,4,5]\n",
    "new_num=reduce(lambda x,y:x+y, num1)\n",
    "new_num"
   ]
  },
  {
   "cell_type": "code",
   "execution_count": 26,
   "id": "ad2eaf38-5e9c-456b-aca6-b1b7b92db664",
   "metadata": {},
   "outputs": [
    {
     "data": {
      "text/html": [
       "<div>\n",
       "<style scoped>\n",
       "    .dataframe tbody tr th:only-of-type {\n",
       "        vertical-align: middle;\n",
       "    }\n",
       "\n",
       "    .dataframe tbody tr th {\n",
       "        vertical-align: top;\n",
       "    }\n",
       "\n",
       "    .dataframe thead th {\n",
       "        text-align: right;\n",
       "    }\n",
       "</style>\n",
       "<table border=\"1\" class=\"dataframe\">\n",
       "  <thead>\n",
       "    <tr style=\"text-align: right;\">\n",
       "      <th></th>\n",
       "      <th>Animal</th>\n",
       "      <th>Number_legs</th>\n",
       "    </tr>\n",
       "  </thead>\n",
       "  <tbody>\n",
       "    <tr>\n",
       "      <th>0</th>\n",
       "      <td>cat</td>\n",
       "      <td>4.0</td>\n",
       "    </tr>\n",
       "    <tr>\n",
       "      <th>1</th>\n",
       "      <td>peguin</td>\n",
       "      <td>2.0</td>\n",
       "    </tr>\n",
       "    <tr>\n",
       "      <th>2</th>\n",
       "      <td>dog</td>\n",
       "      <td>4.0</td>\n",
       "    </tr>\n",
       "    <tr>\n",
       "      <th>3</th>\n",
       "      <td>spider</td>\n",
       "      <td>8.0</td>\n",
       "    </tr>\n",
       "    <tr>\n",
       "      <th>4</th>\n",
       "      <td>snake</td>\n",
       "      <td>NaN</td>\n",
       "    </tr>\n",
       "  </tbody>\n",
       "</table>\n",
       "</div>"
      ],
      "text/plain": [
       "   Animal  Number_legs\n",
       "0     cat          4.0\n",
       "1  peguin          2.0\n",
       "2     dog          4.0\n",
       "3  spider          8.0\n",
       "4   snake          NaN"
      ]
     },
     "execution_count": 26,
     "metadata": {},
     "output_type": "execute_result"
    }
   ],
   "source": [
    "d=pd.DataFrame(data={'Animal':['cat','peguin','dog','spider','snake'],'Number_legs':[4,2,4,8,np.nan]})\n",
    "d"
   ]
  },
  {
   "cell_type": "code",
   "execution_count": 27,
   "id": "e4b88aef-c3d8-40c2-bbcf-192cb5d9bffb",
   "metadata": {},
   "outputs": [
    {
     "data": {
      "text/html": [
       "<div>\n",
       "<style scoped>\n",
       "    .dataframe tbody tr th:only-of-type {\n",
       "        vertical-align: middle;\n",
       "    }\n",
       "\n",
       "    .dataframe tbody tr th {\n",
       "        vertical-align: top;\n",
       "    }\n",
       "\n",
       "    .dataframe thead th {\n",
       "        text-align: right;\n",
       "    }\n",
       "</style>\n",
       "<table border=\"1\" class=\"dataframe\">\n",
       "  <thead>\n",
       "    <tr style=\"text-align: right;\">\n",
       "      <th></th>\n",
       "      <th>Animal</th>\n",
       "      <th>Number_legs</th>\n",
       "      <th>mr</th>\n",
       "      <th>dense_Rank</th>\n",
       "      <th>Min_Rank</th>\n",
       "    </tr>\n",
       "  </thead>\n",
       "  <tbody>\n",
       "    <tr>\n",
       "      <th>0</th>\n",
       "      <td>cat</td>\n",
       "      <td>4.0</td>\n",
       "      <td>3.0</td>\n",
       "      <td>2.0</td>\n",
       "      <td>2.0</td>\n",
       "    </tr>\n",
       "    <tr>\n",
       "      <th>1</th>\n",
       "      <td>peguin</td>\n",
       "      <td>2.0</td>\n",
       "      <td>1.0</td>\n",
       "      <td>3.0</td>\n",
       "      <td>1.0</td>\n",
       "    </tr>\n",
       "    <tr>\n",
       "      <th>2</th>\n",
       "      <td>dog</td>\n",
       "      <td>4.0</td>\n",
       "      <td>3.0</td>\n",
       "      <td>2.0</td>\n",
       "      <td>2.0</td>\n",
       "    </tr>\n",
       "    <tr>\n",
       "      <th>3</th>\n",
       "      <td>spider</td>\n",
       "      <td>8.0</td>\n",
       "      <td>4.0</td>\n",
       "      <td>1.0</td>\n",
       "      <td>4.0</td>\n",
       "    </tr>\n",
       "    <tr>\n",
       "      <th>4</th>\n",
       "      <td>snake</td>\n",
       "      <td>NaN</td>\n",
       "      <td>NaN</td>\n",
       "      <td>NaN</td>\n",
       "      <td>NaN</td>\n",
       "    </tr>\n",
       "  </tbody>\n",
       "</table>\n",
       "</div>"
      ],
      "text/plain": [
       "   Animal  Number_legs   mr  dense_Rank  Min_Rank\n",
       "0     cat          4.0  3.0         2.0       2.0\n",
       "1  peguin          2.0  1.0         3.0       1.0\n",
       "2     dog          4.0  3.0         2.0       2.0\n",
       "3  spider          8.0  4.0         1.0       4.0\n",
       "4   snake          NaN  NaN         NaN       NaN"
      ]
     },
     "execution_count": 27,
     "metadata": {},
     "output_type": "execute_result"
    }
   ],
   "source": [
    "d['mr']=d['Number_legs'].rank(method='max')\n",
    "d['dense_Rank']=d['Number_legs'].rank(method='dense',ascending=False)\n",
    "d['Min_Rank']=d['Number_legs'].rank(method='min')\n",
    "d"
   ]
  },
  {
   "cell_type": "code",
   "execution_count": 28,
   "id": "d450f8a2-a499-454d-8ef3-5fec5c4ece86",
   "metadata": {},
   "outputs": [],
   "source": [
    "emp=pd.DataFrame(data={'Emp_Name':['Farhan','arti','Shirish','Sreekar','Adil','Shrit'],\n",
    "                      'Salary':[10000,20000,15000,23000,45000,30000],\n",
    "                      'Dept':['IT','IT','IT','Sales','Sales','Sales'],\n",
    "                      'age':[23,22,27,23,22,24]})"
   ]
  },
  {
   "cell_type": "code",
   "execution_count": 30,
   "id": "85c3f0e9-b935-445e-b459-1cddb6fc972d",
   "metadata": {},
   "outputs": [
    {
     "data": {
      "text/plain": [
       "Dept\n",
       "IT       15000.000000\n",
       "Sales    32666.666667\n",
       "Name: Salary, dtype: float64"
      ]
     },
     "execution_count": 30,
     "metadata": {},
     "output_type": "execute_result"
    }
   ],
   "source": [
    "emp['Max_Rank']=emp['Salary'].rank(method='max')\n",
    "emp.groupby('Dept').Salary.mean()\n"
   ]
  },
  {
   "cell_type": "code",
   "execution_count": 31,
   "id": "82ba2c60-d55c-48c5-b333-68444b2aaf89",
   "metadata": {},
   "outputs": [
    {
     "data": {
      "text/html": [
       "<div>\n",
       "<style scoped>\n",
       "    .dataframe tbody tr th:only-of-type {\n",
       "        vertical-align: middle;\n",
       "    }\n",
       "\n",
       "    .dataframe tbody tr th {\n",
       "        vertical-align: top;\n",
       "    }\n",
       "\n",
       "    .dataframe thead th {\n",
       "        text-align: right;\n",
       "    }\n",
       "</style>\n",
       "<table border=\"1\" class=\"dataframe\">\n",
       "  <thead>\n",
       "    <tr style=\"text-align: right;\">\n",
       "      <th></th>\n",
       "      <th>Emp_Name</th>\n",
       "      <th>Salary</th>\n",
       "      <th>Dept</th>\n",
       "      <th>age</th>\n",
       "      <th>Max_Rank</th>\n",
       "      <th>Rank</th>\n",
       "    </tr>\n",
       "  </thead>\n",
       "  <tbody>\n",
       "    <tr>\n",
       "      <th>1</th>\n",
       "      <td>arti</td>\n",
       "      <td>20000</td>\n",
       "      <td>IT</td>\n",
       "      <td>22</td>\n",
       "      <td>3.0</td>\n",
       "      <td>1.0</td>\n",
       "    </tr>\n",
       "    <tr>\n",
       "      <th>2</th>\n",
       "      <td>Shirish</td>\n",
       "      <td>15000</td>\n",
       "      <td>IT</td>\n",
       "      <td>27</td>\n",
       "      <td>2.0</td>\n",
       "      <td>2.0</td>\n",
       "    </tr>\n",
       "    <tr>\n",
       "      <th>4</th>\n",
       "      <td>Adil</td>\n",
       "      <td>45000</td>\n",
       "      <td>Sales</td>\n",
       "      <td>22</td>\n",
       "      <td>6.0</td>\n",
       "      <td>1.0</td>\n",
       "    </tr>\n",
       "    <tr>\n",
       "      <th>5</th>\n",
       "      <td>Shrit</td>\n",
       "      <td>30000</td>\n",
       "      <td>Sales</td>\n",
       "      <td>24</td>\n",
       "      <td>5.0</td>\n",
       "      <td>2.0</td>\n",
       "    </tr>\n",
       "  </tbody>\n",
       "</table>\n",
       "</div>"
      ],
      "text/plain": [
       "  Emp_Name  Salary   Dept  age  Max_Rank  Rank\n",
       "1     arti   20000     IT   22       3.0   1.0\n",
       "2  Shirish   15000     IT   27       2.0   2.0\n",
       "4     Adil   45000  Sales   22       6.0   1.0\n",
       "5    Shrit   30000  Sales   24       5.0   2.0"
      ]
     },
     "execution_count": 31,
     "metadata": {},
     "output_type": "execute_result"
    }
   ],
   "source": [
    "emp['Rank']=emp.groupby('Dept').Salary.rank(method='dense',ascending=False)\n",
    "emp[(emp['Rank']<3)]"
   ]
  },
  {
   "cell_type": "code",
   "execution_count": 33,
   "id": "112890e9-b429-46d1-9111-cd170ba6564c",
   "metadata": {},
   "outputs": [
    {
     "ename": "AttributeError",
     "evalue": "'SeriesGroupBy' object has no attribute 'Count'",
     "output_type": "error",
     "traceback": [
      "\u001b[1;31m---------------------------------------------------------------------------\u001b[0m",
      "\u001b[1;31mAttributeError\u001b[0m                            Traceback (most recent call last)",
      "Cell \u001b[1;32mIn[33], line 1\u001b[0m\n\u001b[1;32m----> 1\u001b[0m emp\u001b[38;5;241m.\u001b[39mgroupby(\u001b[38;5;124m'\u001b[39m\u001b[38;5;124mDept\u001b[39m\u001b[38;5;124m'\u001b[39m)\u001b[38;5;241m.\u001b[39mSalary\u001b[38;5;241m.\u001b[39magg([\u001b[38;5;124m'\u001b[39m\u001b[38;5;124mCount\u001b[39m\u001b[38;5;124m'\u001b[39m,\u001b[38;5;124m'\u001b[39m\u001b[38;5;124mmax\u001b[39m\u001b[38;5;124m'\u001b[39m,\u001b[38;5;124m'\u001b[39m\u001b[38;5;124mmin\u001b[39m\u001b[38;5;124m'\u001b[39m])\n",
      "File \u001b[1;32m~\\anaconda3\\Lib\\site-packages\\pandas\\core\\groupby\\generic.py:255\u001b[0m, in \u001b[0;36mSeriesGroupBy.aggregate\u001b[1;34m(self, func, engine, engine_kwargs, *args, **kwargs)\u001b[0m\n\u001b[0;32m    253\u001b[0m kwargs[\u001b[38;5;124m\"\u001b[39m\u001b[38;5;124mengine\u001b[39m\u001b[38;5;124m\"\u001b[39m] \u001b[38;5;241m=\u001b[39m engine\n\u001b[0;32m    254\u001b[0m kwargs[\u001b[38;5;124m\"\u001b[39m\u001b[38;5;124mengine_kwargs\u001b[39m\u001b[38;5;124m\"\u001b[39m] \u001b[38;5;241m=\u001b[39m engine_kwargs\n\u001b[1;32m--> 255\u001b[0m ret \u001b[38;5;241m=\u001b[39m \u001b[38;5;28mself\u001b[39m\u001b[38;5;241m.\u001b[39m_aggregate_multiple_funcs(func, \u001b[38;5;241m*\u001b[39margs, \u001b[38;5;241m*\u001b[39m\u001b[38;5;241m*\u001b[39mkwargs)\n\u001b[0;32m    256\u001b[0m \u001b[38;5;28;01mif\u001b[39;00m relabeling:\n\u001b[0;32m    257\u001b[0m     \u001b[38;5;66;03m# columns is not narrowed by mypy from relabeling flag\u001b[39;00m\n\u001b[0;32m    258\u001b[0m     \u001b[38;5;28;01massert\u001b[39;00m columns \u001b[38;5;129;01mis\u001b[39;00m \u001b[38;5;129;01mnot\u001b[39;00m \u001b[38;5;28;01mNone\u001b[39;00m  \u001b[38;5;66;03m# for mypy\u001b[39;00m\n",
      "File \u001b[1;32m~\\anaconda3\\Lib\\site-packages\\pandas\\core\\groupby\\generic.py:360\u001b[0m, in \u001b[0;36mSeriesGroupBy._aggregate_multiple_funcs\u001b[1;34m(self, arg, *args, **kwargs)\u001b[0m\n\u001b[0;32m    358\u001b[0m     \u001b[38;5;28;01mfor\u001b[39;00m idx, (name, func) \u001b[38;5;129;01min\u001b[39;00m \u001b[38;5;28menumerate\u001b[39m(arg):\n\u001b[0;32m    359\u001b[0m         key \u001b[38;5;241m=\u001b[39m base\u001b[38;5;241m.\u001b[39mOutputKey(label\u001b[38;5;241m=\u001b[39mname, position\u001b[38;5;241m=\u001b[39midx)\n\u001b[1;32m--> 360\u001b[0m         results[key] \u001b[38;5;241m=\u001b[39m \u001b[38;5;28mself\u001b[39m\u001b[38;5;241m.\u001b[39maggregate(func, \u001b[38;5;241m*\u001b[39margs, \u001b[38;5;241m*\u001b[39m\u001b[38;5;241m*\u001b[39mkwargs)\n\u001b[0;32m    362\u001b[0m \u001b[38;5;28;01mif\u001b[39;00m \u001b[38;5;28many\u001b[39m(\u001b[38;5;28misinstance\u001b[39m(x, DataFrame) \u001b[38;5;28;01mfor\u001b[39;00m x \u001b[38;5;129;01min\u001b[39;00m results\u001b[38;5;241m.\u001b[39mvalues()):\n\u001b[0;32m    363\u001b[0m     \u001b[38;5;28;01mfrom\u001b[39;00m \u001b[38;5;21;01mpandas\u001b[39;00m \u001b[38;5;28;01mimport\u001b[39;00m concat\n",
      "File \u001b[1;32m~\\anaconda3\\Lib\\site-packages\\pandas\\core\\groupby\\generic.py:247\u001b[0m, in \u001b[0;36mSeriesGroupBy.aggregate\u001b[1;34m(self, func, engine, engine_kwargs, *args, **kwargs)\u001b[0m\n\u001b[0;32m    245\u001b[0m     \u001b[38;5;28;01mif\u001b[39;00m engine_kwargs \u001b[38;5;129;01mis\u001b[39;00m \u001b[38;5;129;01mnot\u001b[39;00m \u001b[38;5;28;01mNone\u001b[39;00m:\n\u001b[0;32m    246\u001b[0m         kwargs[\u001b[38;5;124m\"\u001b[39m\u001b[38;5;124mengine_kwargs\u001b[39m\u001b[38;5;124m\"\u001b[39m] \u001b[38;5;241m=\u001b[39m engine_kwargs\n\u001b[1;32m--> 247\u001b[0m     \u001b[38;5;28;01mreturn\u001b[39;00m \u001b[38;5;28mgetattr\u001b[39m(\u001b[38;5;28mself\u001b[39m, func)(\u001b[38;5;241m*\u001b[39margs, \u001b[38;5;241m*\u001b[39m\u001b[38;5;241m*\u001b[39mkwargs)\n\u001b[0;32m    249\u001b[0m \u001b[38;5;28;01melif\u001b[39;00m \u001b[38;5;28misinstance\u001b[39m(func, abc\u001b[38;5;241m.\u001b[39mIterable):\n\u001b[0;32m    250\u001b[0m     \u001b[38;5;66;03m# Catch instances of lists / tuples\u001b[39;00m\n\u001b[0;32m    251\u001b[0m     \u001b[38;5;66;03m# but not the class list / tuple itself.\u001b[39;00m\n\u001b[0;32m    252\u001b[0m     func \u001b[38;5;241m=\u001b[39m maybe_mangle_lambdas(func)\n",
      "File \u001b[1;32m~\\anaconda3\\Lib\\site-packages\\pandas\\core\\groupby\\groupby.py:1312\u001b[0m, in \u001b[0;36mGroupBy.__getattr__\u001b[1;34m(self, attr)\u001b[0m\n\u001b[0;32m   1309\u001b[0m \u001b[38;5;28;01mif\u001b[39;00m attr \u001b[38;5;129;01min\u001b[39;00m \u001b[38;5;28mself\u001b[39m\u001b[38;5;241m.\u001b[39mobj:\n\u001b[0;32m   1310\u001b[0m     \u001b[38;5;28;01mreturn\u001b[39;00m \u001b[38;5;28mself\u001b[39m[attr]\n\u001b[1;32m-> 1312\u001b[0m \u001b[38;5;28;01mraise\u001b[39;00m \u001b[38;5;167;01mAttributeError\u001b[39;00m(\n\u001b[0;32m   1313\u001b[0m     \u001b[38;5;124mf\u001b[39m\u001b[38;5;124m\"\u001b[39m\u001b[38;5;124m'\u001b[39m\u001b[38;5;132;01m{\u001b[39;00m\u001b[38;5;28mtype\u001b[39m(\u001b[38;5;28mself\u001b[39m)\u001b[38;5;241m.\u001b[39m\u001b[38;5;18m__name__\u001b[39m\u001b[38;5;132;01m}\u001b[39;00m\u001b[38;5;124m'\u001b[39m\u001b[38;5;124m object has no attribute \u001b[39m\u001b[38;5;124m'\u001b[39m\u001b[38;5;132;01m{\u001b[39;00mattr\u001b[38;5;132;01m}\u001b[39;00m\u001b[38;5;124m'\u001b[39m\u001b[38;5;124m\"\u001b[39m\n\u001b[0;32m   1314\u001b[0m )\n",
      "\u001b[1;31mAttributeError\u001b[0m: 'SeriesGroupBy' object has no attribute 'Count'"
     ]
    }
   ],
   "source": [
    "emp.groupby('Dept').Salary.agg(['Count','max','min'])"
   ]
  },
  {
   "cell_type": "code",
   "execution_count": 34,
   "id": "5b37ef87-e276-4261-beb0-806e8e93e2da",
   "metadata": {},
   "outputs": [
    {
     "data": {
      "text/plain": [
       "Dept\n",
       "IT       15000.000000\n",
       "Sales    32666.666667\n",
       "Name: Salary, dtype: float64"
      ]
     },
     "execution_count": 34,
     "metadata": {},
     "output_type": "execute_result"
    }
   ],
   "source": [
    "emp.groupby('Dept').Salary.mean()"
   ]
  },
  {
   "cell_type": "code",
   "execution_count": 35,
   "id": "fe870c4b-6f27-4633-a049-a423e3622464",
   "metadata": {},
   "outputs": [
    {
     "name": "stdout",
     "output_type": "stream",
     "text": [
      "Pankaj\n"
     ]
    }
   ],
   "source": [
    "#DECORATORS:\n",
    "\n",
    "def fun(fun1):\n",
    "    fun1(\"Pankaj\")\n",
    "fun1=print\n",
    "fun(fun1)"
   ]
  },
  {
   "cell_type": "code",
   "execution_count": 36,
   "id": "f112145f-3995-4d1b-b8e7-d782675ba506",
   "metadata": {},
   "outputs": [
    {
     "name": "stdout",
     "output_type": "stream",
     "text": [
      "Executing Now.....\n",
      "Harry is a good Boy\n",
      "Executed..\n"
     ]
    }
   ],
   "source": [
    "def d(fun1):\n",
    "    def nowexe():\n",
    "        print(\"Executing Now.....\")\n",
    "        fun1()\n",
    "        print(\"Executed..\")\n",
    "    return(nowexe)\n",
    "def who_is_harry():\n",
    "    print(\"Harry is a good Boy\")\n",
    "who_is_harry=d(who_is_harry)\n",
    "who_is_harry()"
   ]
  },
  {
   "cell_type": "code",
   "execution_count": 37,
   "id": "b2ea11af-9f15-4fcb-920d-2722475669da",
   "metadata": {},
   "outputs": [
    {
     "data": {
      "text/html": [
       "<div>\n",
       "<style scoped>\n",
       "    .dataframe tbody tr th:only-of-type {\n",
       "        vertical-align: middle;\n",
       "    }\n",
       "\n",
       "    .dataframe tbody tr th {\n",
       "        vertical-align: top;\n",
       "    }\n",
       "\n",
       "    .dataframe thead th {\n",
       "        text-align: right;\n",
       "    }\n",
       "</style>\n",
       "<table border=\"1\" class=\"dataframe\">\n",
       "  <thead>\n",
       "    <tr style=\"text-align: right;\">\n",
       "      <th></th>\n",
       "      <th>Emp_Name</th>\n",
       "      <th>Salary</th>\n",
       "      <th>Dept</th>\n",
       "      <th>age</th>\n",
       "      <th>Max_Rank</th>\n",
       "      <th>Rank</th>\n",
       "    </tr>\n",
       "  </thead>\n",
       "  <tbody>\n",
       "    <tr>\n",
       "      <th>0</th>\n",
       "      <td>Farhan</td>\n",
       "      <td>10000</td>\n",
       "      <td>IT</td>\n",
       "      <td>23</td>\n",
       "      <td>1.0</td>\n",
       "      <td>3.0</td>\n",
       "    </tr>\n",
       "    <tr>\n",
       "      <th>1</th>\n",
       "      <td>arti</td>\n",
       "      <td>20000</td>\n",
       "      <td>IT</td>\n",
       "      <td>22</td>\n",
       "      <td>3.0</td>\n",
       "      <td>1.0</td>\n",
       "    </tr>\n",
       "    <tr>\n",
       "      <th>2</th>\n",
       "      <td>Shirish</td>\n",
       "      <td>15000</td>\n",
       "      <td>IT</td>\n",
       "      <td>27</td>\n",
       "      <td>2.0</td>\n",
       "      <td>2.0</td>\n",
       "    </tr>\n",
       "    <tr>\n",
       "      <th>3</th>\n",
       "      <td>Sreekar</td>\n",
       "      <td>23000</td>\n",
       "      <td>Sales</td>\n",
       "      <td>23</td>\n",
       "      <td>4.0</td>\n",
       "      <td>3.0</td>\n",
       "    </tr>\n",
       "    <tr>\n",
       "      <th>4</th>\n",
       "      <td>Adil</td>\n",
       "      <td>45000</td>\n",
       "      <td>Sales</td>\n",
       "      <td>22</td>\n",
       "      <td>6.0</td>\n",
       "      <td>1.0</td>\n",
       "    </tr>\n",
       "    <tr>\n",
       "      <th>5</th>\n",
       "      <td>Shrit</td>\n",
       "      <td>30000</td>\n",
       "      <td>Sales</td>\n",
       "      <td>24</td>\n",
       "      <td>5.0</td>\n",
       "      <td>2.0</td>\n",
       "    </tr>\n",
       "  </tbody>\n",
       "</table>\n",
       "</div>"
      ],
      "text/plain": [
       "  Emp_Name  Salary   Dept  age  Max_Rank  Rank\n",
       "0   Farhan   10000     IT   23       1.0   3.0\n",
       "1     arti   20000     IT   22       3.0   1.0\n",
       "2  Shirish   15000     IT   27       2.0   2.0\n",
       "3  Sreekar   23000  Sales   23       4.0   3.0\n",
       "4     Adil   45000  Sales   22       6.0   1.0\n",
       "5    Shrit   30000  Sales   24       5.0   2.0"
      ]
     },
     "execution_count": 37,
     "metadata": {},
     "output_type": "execute_result"
    }
   ],
   "source": [
    "emp"
   ]
  },
  {
   "cell_type": "code",
   "execution_count": 38,
   "id": "bab1d14c-17cc-460f-9238-965f9193fbb8",
   "metadata": {},
   "outputs": [
    {
     "data": {
      "text/html": [
       "<div>\n",
       "<style scoped>\n",
       "    .dataframe tbody tr th:only-of-type {\n",
       "        vertical-align: middle;\n",
       "    }\n",
       "\n",
       "    .dataframe tbody tr th {\n",
       "        vertical-align: top;\n",
       "    }\n",
       "\n",
       "    .dataframe thead th {\n",
       "        text-align: right;\n",
       "    }\n",
       "</style>\n",
       "<table border=\"1\" class=\"dataframe\">\n",
       "  <thead>\n",
       "    <tr style=\"text-align: right;\">\n",
       "      <th></th>\n",
       "      <th>Emp_Name</th>\n",
       "      <th>Salary</th>\n",
       "      <th>Dept</th>\n",
       "      <th>age</th>\n",
       "      <th>Max_Rank</th>\n",
       "      <th>Rank</th>\n",
       "    </tr>\n",
       "  </thead>\n",
       "  <tbody>\n",
       "    <tr>\n",
       "      <th>3</th>\n",
       "      <td>Sreekar</td>\n",
       "      <td>23000</td>\n",
       "      <td>Sales</td>\n",
       "      <td>23</td>\n",
       "      <td>4.0</td>\n",
       "      <td>3.0</td>\n",
       "    </tr>\n",
       "  </tbody>\n",
       "</table>\n",
       "</div>"
      ],
      "text/plain": [
       "  Emp_Name  Salary   Dept  age  Max_Rank  Rank\n",
       "3  Sreekar   23000  Sales   23       4.0   3.0"
      ]
     },
     "execution_count": 38,
     "metadata": {},
     "output_type": "execute_result"
    }
   ],
   "source": [
    "emp_list=['Farhaan','Sreekar']\n",
    "emp[emp['Emp_Name'].isin(emp_list)]"
   ]
  },
  {
   "cell_type": "code",
   "execution_count": 39,
   "id": "32d09f5a-abf8-4e53-be15-dd8e4d2ff2a0",
   "metadata": {},
   "outputs": [],
   "source": [
    "#APPLY FUNCTION"
   ]
  },
  {
   "cell_type": "code",
   "execution_count": 40,
   "id": "ad0ab0a0-8ddb-4a35-a3ff-767b2c20daa7",
   "metadata": {},
   "outputs": [
    {
     "data": {
      "text/plain": [
       "0    23\n",
       "1    22\n",
       "2    27\n",
       "3    23\n",
       "4    22\n",
       "5    24\n",
       "Name: age, dtype: int32"
      ]
     },
     "execution_count": 40,
     "metadata": {},
     "output_type": "execute_result"
    }
   ],
   "source": [
    "emp.age.astype(int)"
   ]
  },
  {
   "cell_type": "code",
   "execution_count": 46,
   "id": "2c4f0a06-e3fa-4091-8dd4-d9ea40dd2d9e",
   "metadata": {},
   "outputs": [],
   "source": [
    "def age_category(x):\n",
    "    if int(x)<25:\n",
    "        return('Young')\n",
    "    else:\n",
    "        return('Adult')\n"
   ]
  },
  {
   "cell_type": "code",
   "execution_count": 47,
   "id": "47051dca-4103-4d86-8de1-b7bf3cc7e310",
   "metadata": {},
   "outputs": [
    {
     "data": {
      "text/html": [
       "<div>\n",
       "<style scoped>\n",
       "    .dataframe tbody tr th:only-of-type {\n",
       "        vertical-align: middle;\n",
       "    }\n",
       "\n",
       "    .dataframe tbody tr th {\n",
       "        vertical-align: top;\n",
       "    }\n",
       "\n",
       "    .dataframe thead th {\n",
       "        text-align: right;\n",
       "    }\n",
       "</style>\n",
       "<table border=\"1\" class=\"dataframe\">\n",
       "  <thead>\n",
       "    <tr style=\"text-align: right;\">\n",
       "      <th></th>\n",
       "      <th>Emp_Name</th>\n",
       "      <th>Salary</th>\n",
       "      <th>Dept</th>\n",
       "      <th>age</th>\n",
       "      <th>Max_Rank</th>\n",
       "      <th>Rank</th>\n",
       "      <th>age_category</th>\n",
       "    </tr>\n",
       "  </thead>\n",
       "  <tbody>\n",
       "    <tr>\n",
       "      <th>0</th>\n",
       "      <td>Farhan</td>\n",
       "      <td>10000</td>\n",
       "      <td>IT</td>\n",
       "      <td>23</td>\n",
       "      <td>1.0</td>\n",
       "      <td>3.0</td>\n",
       "      <td>Young</td>\n",
       "    </tr>\n",
       "    <tr>\n",
       "      <th>1</th>\n",
       "      <td>arti</td>\n",
       "      <td>20000</td>\n",
       "      <td>IT</td>\n",
       "      <td>22</td>\n",
       "      <td>3.0</td>\n",
       "      <td>1.0</td>\n",
       "      <td>Young</td>\n",
       "    </tr>\n",
       "    <tr>\n",
       "      <th>2</th>\n",
       "      <td>Shirish</td>\n",
       "      <td>15000</td>\n",
       "      <td>IT</td>\n",
       "      <td>27</td>\n",
       "      <td>2.0</td>\n",
       "      <td>2.0</td>\n",
       "      <td>Adult</td>\n",
       "    </tr>\n",
       "    <tr>\n",
       "      <th>3</th>\n",
       "      <td>Sreekar</td>\n",
       "      <td>23000</td>\n",
       "      <td>Sales</td>\n",
       "      <td>23</td>\n",
       "      <td>4.0</td>\n",
       "      <td>3.0</td>\n",
       "      <td>Young</td>\n",
       "    </tr>\n",
       "    <tr>\n",
       "      <th>4</th>\n",
       "      <td>Adil</td>\n",
       "      <td>45000</td>\n",
       "      <td>Sales</td>\n",
       "      <td>22</td>\n",
       "      <td>6.0</td>\n",
       "      <td>1.0</td>\n",
       "      <td>Young</td>\n",
       "    </tr>\n",
       "    <tr>\n",
       "      <th>5</th>\n",
       "      <td>Shrit</td>\n",
       "      <td>30000</td>\n",
       "      <td>Sales</td>\n",
       "      <td>24</td>\n",
       "      <td>5.0</td>\n",
       "      <td>2.0</td>\n",
       "      <td>Young</td>\n",
       "    </tr>\n",
       "  </tbody>\n",
       "</table>\n",
       "</div>"
      ],
      "text/plain": [
       "  Emp_Name  Salary   Dept  age  Max_Rank  Rank age_category\n",
       "0   Farhan   10000     IT   23       1.0   3.0        Young\n",
       "1     arti   20000     IT   22       3.0   1.0        Young\n",
       "2  Shirish   15000     IT   27       2.0   2.0        Adult\n",
       "3  Sreekar   23000  Sales   23       4.0   3.0        Young\n",
       "4     Adil   45000  Sales   22       6.0   1.0        Young\n",
       "5    Shrit   30000  Sales   24       5.0   2.0        Young"
      ]
     },
     "execution_count": 47,
     "metadata": {},
     "output_type": "execute_result"
    }
   ],
   "source": [
    "emp['age_category']=emp['age'].apply(age_category)\n",
    "emp"
   ]
  },
  {
   "cell_type": "code",
   "execution_count": 51,
   "id": "04fc07b0-b27f-4686-8378-3d05794bd2a9",
   "metadata": {},
   "outputs": [],
   "source": [
    "emp['Age_mul']=emp['age'].apply(lambda x:int(x)*2)"
   ]
  },
  {
   "cell_type": "code",
   "execution_count": 53,
   "id": "85850052-3888-4c1c-89c7-cb9cfa69af20",
   "metadata": {},
   "outputs": [
    {
     "data": {
      "text/html": [
       "<div>\n",
       "<style scoped>\n",
       "    .dataframe tbody tr th:only-of-type {\n",
       "        vertical-align: middle;\n",
       "    }\n",
       "\n",
       "    .dataframe tbody tr th {\n",
       "        vertical-align: top;\n",
       "    }\n",
       "\n",
       "    .dataframe thead th {\n",
       "        text-align: right;\n",
       "    }\n",
       "</style>\n",
       "<table border=\"1\" class=\"dataframe\">\n",
       "  <thead>\n",
       "    <tr style=\"text-align: right;\">\n",
       "      <th></th>\n",
       "      <th>Emp_Name</th>\n",
       "      <th>Salary</th>\n",
       "      <th>Dept</th>\n",
       "      <th>age</th>\n",
       "      <th>Max_Rank</th>\n",
       "      <th>Rank</th>\n",
       "      <th>age_category</th>\n",
       "      <th>Age_mul</th>\n",
       "    </tr>\n",
       "  </thead>\n",
       "  <tbody>\n",
       "    <tr>\n",
       "      <th>0</th>\n",
       "      <td>Farhan</td>\n",
       "      <td>10000</td>\n",
       "      <td>IT</td>\n",
       "      <td>23</td>\n",
       "      <td>1.0</td>\n",
       "      <td>3.0</td>\n",
       "      <td>Young</td>\n",
       "      <td>46</td>\n",
       "    </tr>\n",
       "    <tr>\n",
       "      <th>1</th>\n",
       "      <td>arti</td>\n",
       "      <td>20000</td>\n",
       "      <td>IT</td>\n",
       "      <td>22</td>\n",
       "      <td>3.0</td>\n",
       "      <td>1.0</td>\n",
       "      <td>Young</td>\n",
       "      <td>44</td>\n",
       "    </tr>\n",
       "    <tr>\n",
       "      <th>2</th>\n",
       "      <td>Shirish</td>\n",
       "      <td>15000</td>\n",
       "      <td>IT</td>\n",
       "      <td>27</td>\n",
       "      <td>2.0</td>\n",
       "      <td>2.0</td>\n",
       "      <td>Adult</td>\n",
       "      <td>54</td>\n",
       "    </tr>\n",
       "    <tr>\n",
       "      <th>3</th>\n",
       "      <td>Sreekar</td>\n",
       "      <td>23000</td>\n",
       "      <td>Sales</td>\n",
       "      <td>23</td>\n",
       "      <td>4.0</td>\n",
       "      <td>3.0</td>\n",
       "      <td>Young</td>\n",
       "      <td>46</td>\n",
       "    </tr>\n",
       "    <tr>\n",
       "      <th>4</th>\n",
       "      <td>Adil</td>\n",
       "      <td>45000</td>\n",
       "      <td>Sales</td>\n",
       "      <td>22</td>\n",
       "      <td>6.0</td>\n",
       "      <td>1.0</td>\n",
       "      <td>Young</td>\n",
       "      <td>44</td>\n",
       "    </tr>\n",
       "    <tr>\n",
       "      <th>5</th>\n",
       "      <td>Shrit</td>\n",
       "      <td>30000</td>\n",
       "      <td>Sales</td>\n",
       "      <td>24</td>\n",
       "      <td>5.0</td>\n",
       "      <td>2.0</td>\n",
       "      <td>Young</td>\n",
       "      <td>48</td>\n",
       "    </tr>\n",
       "  </tbody>\n",
       "</table>\n",
       "</div>"
      ],
      "text/plain": [
       "  Emp_Name  Salary   Dept  age  Max_Rank  Rank age_category  Age_mul\n",
       "0   Farhan   10000     IT   23       1.0   3.0        Young       46\n",
       "1     arti   20000     IT   22       3.0   1.0        Young       44\n",
       "2  Shirish   15000     IT   27       2.0   2.0        Adult       54\n",
       "3  Sreekar   23000  Sales   23       4.0   3.0        Young       46\n",
       "4     Adil   45000  Sales   22       6.0   1.0        Young       44\n",
       "5    Shrit   30000  Sales   24       5.0   2.0        Young       48"
      ]
     },
     "execution_count": 53,
     "metadata": {},
     "output_type": "execute_result"
    }
   ],
   "source": [
    "emp"
   ]
  },
  {
   "cell_type": "code",
   "execution_count": 54,
   "id": "4c1912fc-70a6-4c6d-bfda-6a704a5d73a6",
   "metadata": {},
   "outputs": [
    {
     "name": "stdin",
     "output_type": "stream",
     "text": [
      "Enter your name: Pankaj\n",
      "Enter your name: Prateek\n",
      "Enter your name: Shruti\n",
      "Enter your name: Sridhar\n",
      "Enter your name: Sreekar\n"
     ]
    },
    {
     "name": "stdout",
     "output_type": "stream",
     "text": [
      "['Pankaj', 'Prateek', 'Shruti', 'Sridhar', 'Sreekar']\n"
     ]
    }
   ],
   "source": [
    "x=[]\n",
    "for i in range(0,5):\n",
    "    a=input('Enter your name:')\n",
    "    x.append(a) \n",
    "print(x)"
   ]
  },
  {
   "cell_type": "code",
   "execution_count": null,
   "id": "e9b619ec-6bdc-4ff9-b844-dad95df2eddb",
   "metadata": {},
   "outputs": [],
   "source": []
  }
 ],
 "metadata": {
  "kernelspec": {
   "display_name": "Python 3 (ipykernel)",
   "language": "python",
   "name": "python3"
  },
  "language_info": {
   "codemirror_mode": {
    "name": "ipython",
    "version": 3
   },
   "file_extension": ".py",
   "mimetype": "text/x-python",
   "name": "python",
   "nbconvert_exporter": "python",
   "pygments_lexer": "ipython3",
   "version": "3.11.7"
  }
 },
 "nbformat": 4,
 "nbformat_minor": 5
}
