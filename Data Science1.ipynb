{
 "cells": [
  {
   "cell_type": "code",
   "execution_count": 1,
   "id": "316d7210-a56e-4512-90f9-16bae94c5a30",
   "metadata": {},
   "outputs": [
    {
     "name": "stdout",
     "output_type": "stream",
     "text": [
      "<built-in function getcwd>\n"
     ]
    }
   ],
   "source": [
    "import pandas as pd\n",
    "import numpy as np\n",
    "import os\n",
    "print(os.getcwd)\n"
   ]
  },
  {
   "cell_type": "code",
   "execution_count": 2,
   "id": "bc0a16dc-3bfa-4ddc-84bf-ab4ab0077f4b",
   "metadata": {},
   "outputs": [],
   "source": [
    "pima=pd.read_csv(\"Book1.csv\")"
   ]
  },
  {
   "cell_type": "code",
   "execution_count": 3,
   "id": "35cff47f-c67f-4fa1-b591-2f1ec6497be6",
   "metadata": {},
   "outputs": [
    {
     "data": {
      "text/html": [
       "<div>\n",
       "<style scoped>\n",
       "    .dataframe tbody tr th:only-of-type {\n",
       "        vertical-align: middle;\n",
       "    }\n",
       "\n",
       "    .dataframe tbody tr th {\n",
       "        vertical-align: top;\n",
       "    }\n",
       "\n",
       "    .dataframe thead th {\n",
       "        text-align: right;\n",
       "    }\n",
       "</style>\n",
       "<table border=\"1\" class=\"dataframe\">\n",
       "  <thead>\n",
       "    <tr style=\"text-align: right;\">\n",
       "      <th></th>\n",
       "      <th>no</th>\n",
       "      <th>name</th>\n",
       "      <th>sirname</th>\n",
       "      <th>course</th>\n",
       "      <th>duration</th>\n",
       "      <th>experience</th>\n",
       "    </tr>\n",
       "  </thead>\n",
       "  <tbody>\n",
       "    <tr>\n",
       "      <th>0</th>\n",
       "      <td>1</td>\n",
       "      <td>a</td>\n",
       "      <td>qw</td>\n",
       "      <td>java</td>\n",
       "      <td>3</td>\n",
       "      <td>2</td>\n",
       "    </tr>\n",
       "    <tr>\n",
       "      <th>1</th>\n",
       "      <td>2</td>\n",
       "      <td>b</td>\n",
       "      <td>er</td>\n",
       "      <td>python</td>\n",
       "      <td>3</td>\n",
       "      <td>4</td>\n",
       "    </tr>\n",
       "  </tbody>\n",
       "</table>\n",
       "</div>"
      ],
      "text/plain": [
       "   no  name sirname  course  duration  experience\n",
       "0    1    a      qw    java         3           2\n",
       "1    2    b      er  python         3           4"
      ]
     },
     "execution_count": 3,
     "metadata": {},
     "output_type": "execute_result"
    }
   ],
   "source": [
    "pima.head()\n"
   ]
  },
  {
   "cell_type": "code",
   "execution_count": 4,
   "id": "ac85d2dc-bde0-4973-8298-396a98a6e264",
   "metadata": {},
   "outputs": [
    {
     "data": {
      "text/plain": [
       "no             int64\n",
       "name          object\n",
       "sirname       object\n",
       "course        object\n",
       "duration       int64\n",
       "experience     int64\n",
       "dtype: object"
      ]
     },
     "execution_count": 4,
     "metadata": {},
     "output_type": "execute_result"
    }
   ],
   "source": [
    "pima.dtypes"
   ]
  },
  {
   "cell_type": "code",
   "execution_count": 5,
   "id": "d677871f-f647-400d-95bb-2cdfdd450093",
   "metadata": {},
   "outputs": [
    {
     "data": {
      "text/plain": [
       "(2, 6)"
      ]
     },
     "execution_count": 5,
     "metadata": {},
     "output_type": "execute_result"
    }
   ],
   "source": [
    "pima.shape"
   ]
  },
  {
   "cell_type": "code",
   "execution_count": 6,
   "id": "98c0a45e-0ae2-43e0-a894-bfc6bd666156",
   "metadata": {},
   "outputs": [
    {
     "data": {
      "text/plain": [
       "2"
      ]
     },
     "execution_count": 6,
     "metadata": {},
     "output_type": "execute_result"
    }
   ],
   "source": [
    "pima.shape[0]"
   ]
  },
  {
   "cell_type": "code",
   "execution_count": 7,
   "id": "3dc8a3d6-6f2f-47b1-8c04-640ff085ecd7",
   "metadata": {},
   "outputs": [
    {
     "name": "stdin",
     "output_type": "stream",
     "text": [
      "Enter your Name:  Pankaj\n"
     ]
    }
   ],
   "source": [
    "#USER INPUT BOOLEAN COMPARISON OPERATOR\n",
    "\n",
    "x=input(\"Enter your Name: \")"
   ]
  },
  {
   "cell_type": "code",
   "execution_count": 8,
   "id": "cce3ad45-a72f-4470-be95-2d344cdbc401",
   "metadata": {},
   "outputs": [
    {
     "name": "stdout",
     "output_type": "stream",
     "text": [
      "Pankaj\n"
     ]
    }
   ],
   "source": [
    "print(x)"
   ]
  },
  {
   "cell_type": "code",
   "execution_count": 9,
   "id": "f342eb7d-0b01-4ad6-8ce9-a08ef38484f4",
   "metadata": {},
   "outputs": [
    {
     "data": {
      "text/plain": [
       "False"
      ]
     },
     "execution_count": 9,
     "metadata": {},
     "output_type": "execute_result"
    }
   ],
   "source": [
    "8>10\n"
   ]
  },
  {
   "cell_type": "code",
   "execution_count": 10,
   "id": "298bebce-c80d-41b6-92ef-8b08ce0ea30e",
   "metadata": {},
   "outputs": [],
   "source": [
    "var=False"
   ]
  },
  {
   "cell_type": "code",
   "execution_count": 11,
   "id": "e68e4cde-db0f-4473-94dd-21203094b745",
   "metadata": {},
   "outputs": [
    {
     "data": {
      "text/plain": [
       "bool"
      ]
     },
     "execution_count": 11,
     "metadata": {},
     "output_type": "execute_result"
    }
   ],
   "source": [
    "type(var)"
   ]
  },
  {
   "cell_type": "code",
   "execution_count": 12,
   "id": "372e3d80-d51e-42c3-aebe-517def73954b",
   "metadata": {},
   "outputs": [
    {
     "name": "stdout",
     "output_type": "stream",
     "text": [
      "Pankaj is your student of ekeeda\n"
     ]
    }
   ],
   "source": [
    "print(f'{x} is your student of ekeeda')"
   ]
  },
  {
   "cell_type": "code",
   "execution_count": 13,
   "id": "66873797-ee9c-4b11-8186-b5ffe328f40a",
   "metadata": {},
   "outputs": [
    {
     "name": "stdout",
     "output_type": "stream",
     "text": [
      "a>b\n",
      "a>=b\n",
      "a!=b\n"
     ]
    }
   ],
   "source": [
    "a=7\n",
    "b=6\n",
    "if a>b:\n",
    "    print(\"a>b\")\n",
    "\n",
    "if a<b:\n",
    "    print(\"a<b\")\n",
    "\n",
    "if a>=b:\n",
    "    print(\"a>=b\")\n",
    "\n",
    "if a<=b:\n",
    "    print(\"a<=b\")\n",
    "\n",
    "if a!=b:\n",
    "    print(\"a!=b\")\n"
   ]
  },
  {
   "cell_type": "code",
   "execution_count": 14,
   "id": "63065ca2-c79e-416b-ae3e-fbcb08976e37",
   "metadata": {
    "scrolled": true
   },
   "outputs": [
    {
     "name": "stdin",
     "output_type": "stream",
     "text": [
      "Enter Population: 20000090808\n"
     ]
    },
    {
     "name": "stdout",
     "output_type": "stream",
     "text": [
      "Over Populated.....\n"
     ]
    }
   ],
   "source": [
    "a=int(input(\"Enter Population:\"))\n",
    "if a>20000000:\n",
    "    print(\"Over Populated.....\")\n",
    "\n",
    "elif a>=5000000 and a<=20000000:\n",
    "    print(\"DEcent Population\")\n",
    "else:\n",
    "    print(\"Under Populated..\")\n",
    "\n"
   ]
  },
  {
   "cell_type": "code",
   "execution_count": 15,
   "id": "563f56ee-a21a-4aac-924c-60c2686dc0af",
   "metadata": {},
   "outputs": [
    {
     "name": "stdout",
     "output_type": "stream",
     "text": [
      "<class 'str'>\n"
     ]
    }
   ],
   "source": [
    "a=2\n",
    "a=str(a)\n",
    "print(type(a))"
   ]
  },
  {
   "cell_type": "code",
   "execution_count": 16,
   "id": "dc80545a-a9a4-408f-8aab-4876a07c893d",
   "metadata": {},
   "outputs": [
    {
     "name": "stdout",
     "output_type": "stream",
     "text": [
      "<class 'int'>\n"
     ]
    }
   ],
   "source": [
    "a=2\n",
    "a=int(a)\n",
    "print(type(a))"
   ]
  },
  {
   "cell_type": "code",
   "execution_count": 19,
   "id": "156d72ac-7352-4a4d-9096-9720f560791a",
   "metadata": {},
   "outputs": [
    {
     "name": "stdin",
     "output_type": "stream",
     "text": [
      "Guess a number 3\n"
     ]
    },
    {
     "name": "stdout",
     "output_type": "stream",
     "text": [
      "Go higher..\n"
     ]
    },
    {
     "name": "stdin",
     "output_type": "stream",
     "text": [
      "Guess a number 5\n"
     ]
    },
    {
     "name": "stdout",
     "output_type": "stream",
     "text": [
      "Go higher..\n"
     ]
    },
    {
     "name": "stdin",
     "output_type": "stream",
     "text": [
      "Guess a number 7\n"
     ]
    },
    {
     "name": "stdout",
     "output_type": "stream",
     "text": [
      "Go higher..\n"
     ]
    },
    {
     "name": "stdin",
     "output_type": "stream",
     "text": [
      "Guess a number 8\n"
     ]
    },
    {
     "name": "stdout",
     "output_type": "stream",
     "text": [
      "Go higher..\n"
     ]
    },
    {
     "name": "stdin",
     "output_type": "stream",
     "text": [
      "Guess a number 8\n"
     ]
    },
    {
     "name": "stdout",
     "output_type": "stream",
     "text": [
      "Go higher..\n"
     ]
    },
    {
     "name": "stdin",
     "output_type": "stream",
     "text": [
      "Guess a number 9\n"
     ]
    },
    {
     "name": "stdout",
     "output_type": "stream",
     "text": [
      "Go higher..\n"
     ]
    },
    {
     "name": "stdin",
     "output_type": "stream",
     "text": [
      "Guess a number 10\n"
     ]
    },
    {
     "name": "stdout",
     "output_type": "stream",
     "text": [
      "Correct ! you used  7  attempts\n"
     ]
    }
   ],
   "source": [
    "import random\n",
    "number=random.randint(1,10)\n",
    "attempts=0\n",
    "guess=0\n",
    "while guess != number:\n",
    "    guess=eval(input(\"Guess a number\"))\n",
    "    attempts +=1\n",
    "    if guess ==number:\n",
    "        print(\"Correct ! you used \",attempts,\" attempts\")\n",
    "        break\n",
    "    elif  guess < number:\n",
    "        print(\"Go higher..\")\n",
    "    else:\n",
    "        print(\"Go Lower..\")"
   ]
  },
  {
   "cell_type": "code",
   "execution_count": 21,
   "id": "5d0106a8-3573-4db5-8bd8-f1c46cf38d18",
   "metadata": {},
   "outputs": [
    {
     "name": "stdin",
     "output_type": "stream",
     "text": [
      "Enter the student marks: 24\n"
     ]
    },
    {
     "name": "stdout",
     "output_type": "stream",
     "text": [
      "Grade A\n"
     ]
    }
   ],
   "source": [
    "marks=float(input(\"Enter the student marks:\"))\n",
    "if marks>25:\n",
    "    print(\"Invalid\")\n",
    "elif marks>=20 and marks<=25:\n",
    "    print(\"Grade A\")\n",
    "elif marks>=10 and marks<=20:\n",
    "    print(\"Grade B\")\n",
    "else:\n",
    "    print(\"Failed\")\n",
    "    "
   ]
  },
  {
   "cell_type": "code",
   "execution_count": 22,
   "id": "91d76651-5346-457e-aab7-d73d8f467d9d",
   "metadata": {},
   "outputs": [
    {
     "name": "stdout",
     "output_type": "stream",
     "text": [
      "1\n",
      "2\n",
      "3\n",
      "4\n",
      "5\n",
      "6\n",
      "7\n",
      "8\n",
      "9\n"
     ]
    }
   ],
   "source": [
    "#FOR ,while LOOP\n",
    "\n",
    "a=1\n",
    "while a<10:\n",
    "    print(a)\n",
    "    a +=1"
   ]
  },
  {
   "cell_type": "code",
   "execution_count": 23,
   "id": "42de3d63-74d6-490e-af52-fa744a7f9f10",
   "metadata": {},
   "outputs": [
    {
     "name": "stdout",
     "output_type": "stream",
     "text": [
      "1\n",
      "2\n",
      "3\n",
      "4\n",
      "5\n",
      "6\n",
      "7\n"
     ]
    }
   ],
   "source": [
    "for i in range(1,8):\n",
    "    print(i)"
   ]
  },
  {
   "cell_type": "code",
   "execution_count": 24,
   "id": "0a1698d9-5104-4793-a3b8-a1474066e734",
   "metadata": {},
   "outputs": [
    {
     "data": {
      "text/plain": [
       "12.5625"
      ]
     },
     "execution_count": 24,
     "metadata": {},
     "output_type": "execute_result"
    }
   ],
   "source": [
    "tax=12.5/100\n",
    "price=100.50\n",
    "price*tax\n"
   ]
  },
  {
   "cell_type": "code",
   "execution_count": 25,
   "id": "47a71c88-c453-41d1-a2e6-7f4d1c72e5c2",
   "metadata": {},
   "outputs": [
    {
     "name": "stdout",
     "output_type": "stream",
     "text": [
      "1\n",
      "2\n",
      "3\n",
      "4\n",
      "5\n",
      "6\n",
      "7\n"
     ]
    }
   ],
   "source": [
    "for i in range (1,8):\n",
    "    print(i)"
   ]
  },
  {
   "cell_type": "code",
   "execution_count": 1,
   "id": "355d1ee1-f332-48a7-9cd2-d006d16acf55",
   "metadata": {},
   "outputs": [
    {
     "name": "stdout",
     "output_type": "stream",
     "text": [
      "0\n",
      "1\n",
      "2\n"
     ]
    },
    {
     "ename": "KeyboardInterrupt",
     "evalue": "",
     "output_type": "error",
     "traceback": [
      "\u001b[1;31m---------------------------------------------------------------------------\u001b[0m",
      "\u001b[1;31mKeyboardInterrupt\u001b[0m                         Traceback (most recent call last)",
      "Cell \u001b[1;32mIn[1], line 4\u001b[0m\n\u001b[0;32m      2\u001b[0m \u001b[38;5;28;01mwhile\u001b[39;00m a\u001b[38;5;241m<\u001b[39m\u001b[38;5;241m10\u001b[39m:\n\u001b[0;32m      3\u001b[0m     \u001b[38;5;28;01mif\u001b[39;00m a\u001b[38;5;241m==\u001b[39m\u001b[38;5;241m3\u001b[39m:\n\u001b[1;32m----> 4\u001b[0m         \u001b[38;5;28;01mcontinue\u001b[39;00m\n\u001b[0;32m      5\u001b[0m     \u001b[38;5;28mprint\u001b[39m(a)\n\u001b[0;32m      6\u001b[0m     a\u001b[38;5;241m=\u001b[39ma\u001b[38;5;241m+\u001b[39m\u001b[38;5;241m1\u001b[39m\n",
      "\u001b[1;31mKeyboardInterrupt\u001b[0m: "
     ]
    }
   ],
   "source": [
    "a=0\n",
    "while a<10:\n",
    "    if a==3:\n",
    "        continue\n",
    "    print(a)\n",
    "    a=a+1"
   ]
  },
  {
   "cell_type": "code",
   "execution_count": null,
   "id": "58672192-3674-4c00-b5fa-793e3cb7aaed",
   "metadata": {},
   "outputs": [],
   "source": [
    "for i in range(1,10):\n",
    "    if i==3:\n",
    "        continue\n",
    "    else:\n",
    "        print(i)"
   ]
  },
  {
   "cell_type": "code",
   "execution_count": 3,
   "id": "da4b7a2b-bdc3-4f97-82ca-85464a2ab4c0",
   "metadata": {},
   "outputs": [
    {
     "name": "stdin",
     "output_type": "stream",
     "text": [
      "Enter Number : 5\n"
     ]
    },
    {
     "name": "stdout",
     "output_type": "stream",
     "text": [
      "Factorial of  1 is 1\n",
      "Factorial of  2 is 2\n",
      "Factorial of  3 is 6\n",
      "Factorial of  4 is 24\n",
      "Factorial of  5 is 120\n"
     ]
    }
   ],
   "source": [
    "#FACTORIAL NUMBER\n",
    "\n",
    "a=int(input(\"Enter Number :\"))\n",
    "fac=1\n",
    "for a in range(1,a+1):\n",
    "    fac *=a\n",
    "    print(\"Factorial of \",a,\"is\",fac)"
   ]
  },
  {
   "cell_type": "code",
   "execution_count": 2,
   "id": "a9baf7b3-eb3e-4900-9a4a-94a7f8da161e",
   "metadata": {},
   "outputs": [
    {
     "name": "stdin",
     "output_type": "stream",
     "text": [
      "Enter Your Number: 4\n"
     ]
    },
    {
     "name": "stdout",
     "output_type": "stream",
     "text": [
      "24\n"
     ]
    }
   ],
   "source": [
    "#FUCTORIAL USING FUNCTION\n",
    "def factorial(n):\n",
    "    res=1\n",
    "    for i in range(1,n+1):\n",
    "        res=res*i\n",
    "    return(res)\n",
    "n=int(input(\"Enter Your Number:\"))\n",
    "x=factorial(n)\n",
    "print(x)"
   ]
  },
  {
   "cell_type": "code",
   "execution_count": 4,
   "id": "1b4822d7-24ee-4122-bdf2-bf50cfc70247",
   "metadata": {},
   "outputs": [
    {
     "name": "stdout",
     "output_type": "stream",
     "text": [
      "10\n"
     ]
    }
   ],
   "source": [
    "def fun():\n",
    "    return('10')\n",
    "a=fun()\n",
    "print(a)"
   ]
  },
  {
   "cell_type": "code",
   "execution_count": 5,
   "id": "5b0c79f5-8b4f-4916-a6a4-1704339d375c",
   "metadata": {},
   "outputs": [
    {
     "name": "stdout",
     "output_type": "stream",
     "text": [
      "10\n"
     ]
    }
   ],
   "source": [
    "def func():\n",
    "    print(10)\n",
    "a=func()"
   ]
  },
  {
   "cell_type": "code",
   "execution_count": null,
   "id": "20758f83-c9c1-4be8-8cb8-6e46e2956178",
   "metadata": {},
   "outputs": [],
   "source": []
  }
 ],
 "metadata": {
  "kernelspec": {
   "display_name": "Python 3 (ipykernel)",
   "language": "python",
   "name": "python3"
  },
  "language_info": {
   "codemirror_mode": {
    "name": "ipython",
    "version": 3
   },
   "file_extension": ".py",
   "mimetype": "text/x-python",
   "name": "python",
   "nbconvert_exporter": "python",
   "pygments_lexer": "ipython3",
   "version": "3.11.7"
  }
 },
 "nbformat": 4,
 "nbformat_minor": 5
}
