{
 "cells": [
  {
   "cell_type": "code",
   "execution_count": 1,
   "id": "55e7d3d2-8848-4648-acbc-3af1c7966871",
   "metadata": {},
   "outputs": [
    {
     "name": "stdout",
     "output_type": "stream",
     "text": [
      "<built-in function getcwd>\n"
     ]
    }
   ],
   "source": [
    "import pandas as pd\n",
    "import numpy as np\n",
    "import os\n",
    "import random as rd\n",
    "print(os.getcwd)\n"
   ]
  },
  {
   "cell_type": "code",
   "execution_count": 3,
   "id": "e9afba83-259b-4672-998a-a1097205fc1d",
   "metadata": {},
   "outputs": [
    {
     "name": "stdout",
     "output_type": "stream",
     "text": [
      "1\n",
      "2\n",
      "4\n",
      "5\n",
      "6\n",
      "7\n",
      "8\n",
      "9\n",
      "10\n"
     ]
    }
   ],
   "source": [
    "a=0\n",
    "while a<10:\n",
    "    a=a+1\n",
    "    if a==3:\n",
    "        continue\n",
    "    print(a)"
   ]
  },
  {
   "cell_type": "code",
   "execution_count": 4,
   "id": "08a85a80-a3e7-4cbf-ba6a-b77d298c668b",
   "metadata": {},
   "outputs": [
    {
     "name": "stdout",
     "output_type": "stream",
     "text": [
      "1\n",
      "2\n",
      "4\n",
      "5\n",
      "6\n",
      "7\n"
     ]
    }
   ],
   "source": [
    "for i in range(1,8):\n",
    "    if i==3:\n",
    "        continue\n",
    "    print(i)"
   ]
  },
  {
   "cell_type": "code",
   "execution_count": 5,
   "id": "7967a064-a17f-4bae-a055-89cec00a2398",
   "metadata": {},
   "outputs": [
    {
     "name": "stdout",
     "output_type": "stream",
     "text": [
      "1\n",
      "2\n"
     ]
    }
   ],
   "source": [
    "for i in range(1,8):\n",
    "    if i==3:\n",
    "        break\n",
    "    print(i)"
   ]
  },
  {
   "cell_type": "code",
   "execution_count": 6,
   "id": "3bf9d398-a34d-489a-821f-cd1c2c71a250",
   "metadata": {},
   "outputs": [
    {
     "name": "stdout",
     "output_type": "stream",
     "text": [
      "1\n",
      "2\n",
      "3\n",
      "4\n",
      "5\n",
      "6\n",
      "7\n"
     ]
    }
   ],
   "source": [
    "for i in range(1,8):\n",
    "    if i==3:\n",
    "        pass\n",
    "        \n",
    "    print(i)"
   ]
  },
  {
   "cell_type": "code",
   "execution_count": 7,
   "id": "b3cccc42-3e06-4f3c-969a-da1745721673",
   "metadata": {},
   "outputs": [
    {
     "name": "stdout",
     "output_type": "stream",
     "text": [
      "0.9162976499412253\n",
      "32\n"
     ]
    }
   ],
   "source": [
    "num=rd.random()\n",
    "print(num)\n",
    "Secret_Number=rd.randint(1,100)\n",
    "print(Secret_Number)"
   ]
  },
  {
   "cell_type": "code",
   "execution_count": 9,
   "id": "6a17ad6d-de4a-4c4d-b530-ff588866f508",
   "metadata": {},
   "outputs": [
    {
     "name": "stdin",
     "output_type": "stream",
     "text": [
      "Any number between 1-100 45\n"
     ]
    },
    {
     "name": "stdout",
     "output_type": "stream",
     "text": [
      "too low\n"
     ]
    },
    {
     "name": "stdin",
     "output_type": "stream",
     "text": [
      "Any number between 1-100 67\n"
     ]
    },
    {
     "name": "stdout",
     "output_type": "stream",
     "text": [
      "too low\n"
     ]
    },
    {
     "name": "stdin",
     "output_type": "stream",
     "text": [
      "Any number between 1-100 89\n"
     ]
    },
    {
     "name": "stdout",
     "output_type": "stream",
     "text": [
      "too low\n"
     ]
    },
    {
     "name": "stdin",
     "output_type": "stream",
     "text": [
      "Any number between 1-100 91\n"
     ]
    },
    {
     "name": "stdout",
     "output_type": "stream",
     "text": [
      "Bingo ! ! You found it\n",
      "You took 4 guesses\n"
     ]
    }
   ],
   "source": [
    "sn=rd.randint(1,100)\n",
    "guess=0\n",
    "guess_number=0\n",
    "\n",
    "while guess!=sn:\n",
    "    guess=int(input(\"Any number between 1-100\"))\n",
    "    guess_number=guess_number+1\n",
    "    if guess>sn:\n",
    "        print(\"too high\")\n",
    "    elif guess<sn:\n",
    "        print(\"too low\")\n",
    "    else:\n",
    "        print(\"Bingo ! ! You found it\")\n",
    "print(f'You took {guess_number} guesses')"
   ]
  },
  {
   "cell_type": "code",
   "execution_count": null,
   "id": "9ab6590a-aebe-48dc-89f1-3920d59836ac",
   "metadata": {},
   "outputs": [],
   "source": []
  }
 ],
 "metadata": {
  "kernelspec": {
   "display_name": "Python 3 (ipykernel)",
   "language": "python",
   "name": "python3"
  },
  "language_info": {
   "codemirror_mode": {
    "name": "ipython",
    "version": 3
   },
   "file_extension": ".py",
   "mimetype": "text/x-python",
   "name": "python",
   "nbconvert_exporter": "python",
   "pygments_lexer": "ipython3",
   "version": "3.11.7"
  }
 },
 "nbformat": 4,
 "nbformat_minor": 5
}
