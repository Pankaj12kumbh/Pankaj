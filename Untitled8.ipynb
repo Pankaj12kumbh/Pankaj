{
 "cells": [
  {
   "cell_type": "code",
   "execution_count": 1,
   "id": "314bb782-2ed5-4d31-925f-d59ff01518cf",
   "metadata": {},
   "outputs": [],
   "source": [
    "#ARRAY\n",
    "\n",
    "import numpy as np \n",
    "import pandas as pd\n"
   ]
  },
  {
   "cell_type": "code",
   "execution_count": 2,
   "id": "de52bd95-51ee-42c7-b79a-4444f2061ef4",
   "metadata": {},
   "outputs": [],
   "source": [
    "l1=[1,2,3,4,5]"
   ]
  },
  {
   "cell_type": "code",
   "execution_count": 6,
   "id": "43744b1e-9b37-4023-9be8-3014fd86b3fd",
   "metadata": {},
   "outputs": [
    {
     "data": {
      "text/plain": [
       "array([1, 2, 3, 4, 5])"
      ]
     },
     "execution_count": 6,
     "metadata": {},
     "output_type": "execute_result"
    }
   ],
   "source": [
    "ma=np.array(l1)\n",
    "ma"
   ]
  },
  {
   "cell_type": "code",
   "execution_count": 7,
   "id": "93118ac8-0bd4-43fd-b2c6-d73fa93893b7",
   "metadata": {},
   "outputs": [
    {
     "data": {
      "text/plain": [
       "array([[1, 2, 3],\n",
       "       [4, 5, 6],\n",
       "       [7, 8, 9]])"
      ]
     },
     "execution_count": 7,
     "metadata": {},
     "output_type": "execute_result"
    }
   ],
   "source": [
    "l2=[[1,2,3],[4,5,6],[7,8,9]]\n",
    "ma1=np.array(l2)\n",
    "ma1"
   ]
  },
  {
   "cell_type": "code",
   "execution_count": 8,
   "id": "bf1c06be-a827-407f-a001-35a0fc70d3f6",
   "metadata": {},
   "outputs": [
    {
     "data": {
      "text/plain": [
       "15"
      ]
     },
     "execution_count": 8,
     "metadata": {},
     "output_type": "execute_result"
    }
   ],
   "source": [
    "ma.sum()"
   ]
  },
  {
   "cell_type": "code",
   "execution_count": 9,
   "id": "c67f1f90-97ff-48d5-806a-49acc695a4ea",
   "metadata": {},
   "outputs": [
    {
     "data": {
      "text/plain": [
       "array([ 1,  4,  9, 16, 25], dtype=int32)"
      ]
     },
     "execution_count": 9,
     "metadata": {},
     "output_type": "execute_result"
    }
   ],
   "source": [
    "np.power(ma,2)"
   ]
  },
  {
   "cell_type": "code",
   "execution_count": 10,
   "id": "0f44f7eb-8938-402d-9003-bfa6cb64769c",
   "metadata": {},
   "outputs": [
    {
     "data": {
      "text/plain": [
       "45"
      ]
     },
     "execution_count": 10,
     "metadata": {},
     "output_type": "execute_result"
    }
   ],
   "source": [
    "ma1.sum()"
   ]
  },
  {
   "cell_type": "code",
   "execution_count": 11,
   "id": "463b84cb-1745-420c-a632-118f1a2bfca9",
   "metadata": {},
   "outputs": [
    {
     "name": "stdout",
     "output_type": "stream",
     "text": [
      "[1, 4, 9, 16, 25]\n"
     ]
    }
   ],
   "source": [
    "a=[i**2 for i in l1]\n",
    "print(a)"
   ]
  },
  {
   "cell_type": "code",
   "execution_count": 13,
   "id": "a617cce5-dd22-449f-91fc-b654bb31ee8b",
   "metadata": {},
   "outputs": [
    {
     "name": "stdout",
     "output_type": "stream",
     "text": [
      "2\n"
     ]
    }
   ],
   "source": [
    "#INdexing in array\n",
    "\n",
    "print(l1[1])\n"
   ]
  },
  {
   "cell_type": "code",
   "execution_count": 14,
   "id": "133c028b-178b-47ed-b071-7b5d6b784b34",
   "metadata": {},
   "outputs": [
    {
     "data": {
      "text/plain": [
       "2"
      ]
     },
     "execution_count": 14,
     "metadata": {},
     "output_type": "execute_result"
    }
   ],
   "source": [
    "ma[1]"
   ]
  },
  {
   "cell_type": "code",
   "execution_count": 15,
   "id": "b4ff631d-e882-47ef-9c77-170a28a8c1df",
   "metadata": {},
   "outputs": [
    {
     "data": {
      "text/plain": [
       "array([[1, 2, 3],\n",
       "       [4, 5, 6],\n",
       "       [7, 8, 9]])"
      ]
     },
     "execution_count": 15,
     "metadata": {},
     "output_type": "execute_result"
    }
   ],
   "source": [
    "ma1"
   ]
  },
  {
   "cell_type": "code",
   "execution_count": 16,
   "id": "a8067947-cf0f-447f-884c-1aa2645213c9",
   "metadata": {},
   "outputs": [
    {
     "data": {
      "text/plain": [
       "array([4, 5, 6])"
      ]
     },
     "execution_count": 16,
     "metadata": {},
     "output_type": "execute_result"
    }
   ],
   "source": [
    "ma1[1]"
   ]
  },
  {
   "cell_type": "code",
   "execution_count": 17,
   "id": "32437441-7d22-47cc-9575-f9697b91c733",
   "metadata": {},
   "outputs": [
    {
     "data": {
      "text/plain": [
       "5"
      ]
     },
     "execution_count": 17,
     "metadata": {},
     "output_type": "execute_result"
    }
   ],
   "source": [
    "ma1[1][1]"
   ]
  },
  {
   "cell_type": "code",
   "execution_count": 18,
   "id": "801204a0-2198-4247-87df-38d42d9dfa3c",
   "metadata": {},
   "outputs": [
    {
     "data": {
      "text/plain": [
       "[2, 3, 4, 5]"
      ]
     },
     "execution_count": 18,
     "metadata": {},
     "output_type": "execute_result"
    }
   ],
   "source": [
    "#slicing array\n",
    "\n",
    "l1[1:]"
   ]
  },
  {
   "cell_type": "code",
   "execution_count": 19,
   "id": "661f366c-969b-48a0-ae07-a36b0021c66d",
   "metadata": {},
   "outputs": [
    {
     "data": {
      "text/plain": [
       "array([[4, 5, 6],\n",
       "       [7, 8, 9]])"
      ]
     },
     "execution_count": 19,
     "metadata": {},
     "output_type": "execute_result"
    }
   ],
   "source": [
    "ma1[1:]"
   ]
  },
  {
   "cell_type": "code",
   "execution_count": 20,
   "id": "3c02aec2-6d68-479a-b10f-72b5e447ad4b",
   "metadata": {},
   "outputs": [
    {
     "data": {
      "text/plain": [
       "array([5, 6])"
      ]
     },
     "execution_count": 20,
     "metadata": {},
     "output_type": "execute_result"
    }
   ],
   "source": [
    "ma1[1,1:]"
   ]
  },
  {
   "cell_type": "code",
   "execution_count": 22,
   "id": "5bba95ae-0004-497a-8733-e7133ebe2aab",
   "metadata": {},
   "outputs": [
    {
     "ename": "ValueError",
     "evalue": "operands could not be broadcast together with shapes (5,) (3,3) ",
     "output_type": "error",
     "traceback": [
      "\u001b[1;31m---------------------------------------------------------------------------\u001b[0m",
      "\u001b[1;31mValueError\u001b[0m                                Traceback (most recent call last)",
      "Cell \u001b[1;32mIn[22], line 3\u001b[0m\n\u001b[0;32m      1\u001b[0m \u001b[38;5;66;03m#arithmetic Operations\u001b[39;00m\n\u001b[1;32m----> 3\u001b[0m ma3\u001b[38;5;241m=\u001b[39mma\u001b[38;5;241m+\u001b[39mma1\n\u001b[0;32m      4\u001b[0m \u001b[38;5;28mprint\u001b[39m(ma3)\n",
      "\u001b[1;31mValueError\u001b[0m: operands could not be broadcast together with shapes (5,) (3,3) "
     ]
    }
   ],
   "source": [
    "#arithmetic Operations\n",
    "\n",
    "ma3=ma+ma1\n",
    "print(ma3)"
   ]
  },
  {
   "cell_type": "code",
   "execution_count": 23,
   "id": "8e52b6fb-0523-4cf0-9141-da5136671785",
   "metadata": {},
   "outputs": [
    {
     "name": "stdout",
     "output_type": "stream",
     "text": [
      "[ 2  4  6  8 10]\n"
     ]
    }
   ],
   "source": [
    "ma2=np.array([1,2,3,4,5])\n",
    "ma3=ma+ma2\n",
    "print(ma3)"
   ]
  },
  {
   "cell_type": "code",
   "execution_count": 24,
   "id": "9ab86b71-7e9b-4aee-a8d7-92b122bf86e5",
   "metadata": {},
   "outputs": [],
   "source": [
    "ma3=ma+1"
   ]
  },
  {
   "cell_type": "code",
   "execution_count": 25,
   "id": "d14cb9f7-dcda-4d8d-ab6e-ac2529b85e58",
   "metadata": {},
   "outputs": [
    {
     "data": {
      "text/plain": [
       "array([2, 3, 4, 5, 6])"
      ]
     },
     "execution_count": 25,
     "metadata": {},
     "output_type": "execute_result"
    }
   ],
   "source": [
    "ma3"
   ]
  },
  {
   "cell_type": "code",
   "execution_count": 27,
   "id": "1d561a31-a7c6-49cb-a3c4-36c6554221be",
   "metadata": {},
   "outputs": [
    {
     "data": {
      "text/plain": [
       "array([[-1,  0,  1],\n",
       "       [ 2,  3,  4],\n",
       "       [ 5,  6,  7]])"
      ]
     },
     "execution_count": 27,
     "metadata": {},
     "output_type": "execute_result"
    }
   ],
   "source": [
    "ma3=ma1-2\n",
    "ma3"
   ]
  },
  {
   "cell_type": "code",
   "execution_count": 28,
   "id": "e84c6b6f-c6a9-45ed-a164-b7ab9632cc4d",
   "metadata": {},
   "outputs": [
    {
     "data": {
      "text/plain": [
       "array([[2, 3],\n",
       "       [4, 5]])"
      ]
     },
     "execution_count": 28,
     "metadata": {},
     "output_type": "execute_result"
    }
   ],
   "source": [
    "#concatenation in array\n",
    "\n",
    "arr1=np.array([[2,3],[4,5]])\n",
    "arr2=np.array([[6,7],[8,9]])\n",
    "arr1"
   ]
  },
  {
   "cell_type": "code",
   "execution_count": 30,
   "id": "bf9cd011-0a94-41c4-a136-a3357d741971",
   "metadata": {},
   "outputs": [
    {
     "data": {
      "text/plain": [
       "array([[2, 3],\n",
       "       [4, 5],\n",
       "       [6, 7],\n",
       "       [8, 9]])"
      ]
     },
     "execution_count": 30,
     "metadata": {},
     "output_type": "execute_result"
    }
   ],
   "source": [
    "arr3=np.concatenate((arr1,arr2))\n",
    "arr3"
   ]
  },
  {
   "cell_type": "code",
   "execution_count": 32,
   "id": "d5ac4af2-cb9e-429a-a5d7-d2459919c165",
   "metadata": {},
   "outputs": [
    {
     "data": {
      "text/plain": [
       "array([[2, 3, 6, 7],\n",
       "       [4, 5, 8, 9]])"
      ]
     },
     "execution_count": 32,
     "metadata": {},
     "output_type": "execute_result"
    }
   ],
   "source": [
    "#ACTIONS ON COLUMN\n",
    "arr3=np.concatenate((arr1,arr2),axis=1)\n",
    "arr3"
   ]
  },
  {
   "cell_type": "code",
   "execution_count": 33,
   "id": "782cdb10-ef4e-4ab6-b780-aded531d1e80",
   "metadata": {},
   "outputs": [
    {
     "data": {
      "text/plain": [
       "array([[2, 3],\n",
       "       [4, 5],\n",
       "       [6, 7],\n",
       "       [8, 9]])"
      ]
     },
     "execution_count": 33,
     "metadata": {},
     "output_type": "execute_result"
    }
   ],
   "source": [
    "#ACTION ON ROWS\n",
    "arr3=np.concatenate((arr1,arr2),axis=0)\n",
    "arr3"
   ]
  },
  {
   "cell_type": "code",
   "execution_count": 34,
   "id": "04fd1be8-066e-4bc7-8234-b6af753b3e63",
   "metadata": {},
   "outputs": [
    {
     "name": "stdout",
     "output_type": "stream",
     "text": [
      "['2022-09-09']\n"
     ]
    }
   ],
   "source": [
    "g=[\"2022-09-09\"]\n",
    "a=str(g)\n",
    "print(a)"
   ]
  },
  {
   "cell_type": "code",
   "execution_count": 35,
   "id": "0d437f15-9198-4b9d-a661-1a5bd56f4271",
   "metadata": {},
   "outputs": [
    {
     "data": {
      "text/plain": [
       "'2'"
      ]
     },
     "execution_count": 35,
     "metadata": {},
     "output_type": "execute_result"
    }
   ],
   "source": [
    "g='2022-03-09'\n",
    "g[2]"
   ]
  },
  {
   "cell_type": "code",
   "execution_count": 36,
   "id": "8ee9728d-db52-4f11-9e8a-b03cbd3b81e6",
   "metadata": {},
   "outputs": [
    {
     "data": {
      "text/plain": [
       "'03'"
      ]
     },
     "execution_count": 36,
     "metadata": {},
     "output_type": "execute_result"
    }
   ],
   "source": [
    "g[5:7]"
   ]
  },
  {
   "cell_type": "code",
   "execution_count": 38,
   "id": "dcbe83fa-8856-49e2-9f47-9b89fba5bb43",
   "metadata": {},
   "outputs": [
    {
     "name": "stdout",
     "output_type": "stream",
     "text": [
      "\n"
     ]
    }
   ],
   "source": [
    "a=str(g[0])\n",
    "print(a[5:7])"
   ]
  },
  {
   "cell_type": "code",
   "execution_count": null,
   "id": "92b59e0b-dae8-4f3f-9f73-558fee7ba97f",
   "metadata": {},
   "outputs": [],
   "source": []
  }
 ],
 "metadata": {
  "kernelspec": {
   "display_name": "Python 3 (ipykernel)",
   "language": "python",
   "name": "python3"
  },
  "language_info": {
   "codemirror_mode": {
    "name": "ipython",
    "version": 3
   },
   "file_extension": ".py",
   "mimetype": "text/x-python",
   "name": "python",
   "nbconvert_exporter": "python",
   "pygments_lexer": "ipython3",
   "version": "3.11.7"
  }
 },
 "nbformat": 4,
 "nbformat_minor": 5
}
