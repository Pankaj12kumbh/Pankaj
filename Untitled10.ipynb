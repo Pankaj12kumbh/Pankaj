{
 "cells": [
  {
   "cell_type": "markdown",
   "id": "bf4828a4-c425-46d4-a5c0-85a70620e485",
   "metadata": {},
   "source": [
    "##TRY EXCEPT AND MODULARIZATION"
   ]
  },
  {
   "cell_type": "code",
   "execution_count": 2,
   "id": "b87eeb56-be07-4a43-9d41-cf77e255d293",
   "metadata": {},
   "outputs": [
    {
     "name": "stdin",
     "output_type": "stream",
     "text": [
      "Enter the Value for X: 12\n",
      "Enter the Value for y: 12\n"
     ]
    },
    {
     "name": "stdout",
     "output_type": "stream",
     "text": [
      "sum is  24\n",
      "The below code will continue to work\n"
     ]
    }
   ],
   "source": [
    "x=int(input(\"Enter the Value for X:\"))\n",
    "y=int(input(\"Enter the Value for y:\"))\n",
    "\n",
    "try:\n",
    "    print('sum is ',int(x)+int(y))\n",
    "except:\n",
    "    print(f'{y} is not acceptable as integer')\n",
    "print(\"The below code will continue to work\")"
   ]
  },
  {
   "cell_type": "code",
   "execution_count": 4,
   "id": "41d80ffd-8809-4879-a50e-4f0e55267bcc",
   "metadata": {},
   "outputs": [
    {
     "name": "stdin",
     "output_type": "stream",
     "text": [
      "Enter the Value for X: 12\n",
      "Enter the Value for y: 12\n"
     ]
    },
    {
     "name": "stdout",
     "output_type": "stream",
     "text": [
      "sum is  24\n",
      "The below code will continue to work\n"
     ]
    }
   ],
   "source": [
    "x=int(input(\"Enter the Value for X:\"))\n",
    "y=int(input(\"Enter the Value for y:\"))\n",
    "\n",
    "try:\n",
    "    print('sum is ',int(x)+int(y))\n",
    "except Exception as e:\n",
    "    print(f'{e} is not acceptable as integer')\n",
    "print(\"The below code will continue to work\")"
   ]
  },
  {
   "cell_type": "code",
   "execution_count": 5,
   "id": "d767618e-7218-4b4e-b297-750bce3c1e46",
   "metadata": {},
   "outputs": [],
   "source": [
    "#MODULARIZAtion"
   ]
  },
  {
   "cell_type": "code",
   "execution_count": 6,
   "id": "9a973503-677c-4021-ad62-c147c4b87883",
   "metadata": {},
   "outputs": [
    {
     "name": "stdin",
     "output_type": "stream",
     "text": [
      "Enter value for the a: 23\n",
      "Enter value for the b: 2\n"
     ]
    },
    {
     "name": "stdout",
     "output_type": "stream",
     "text": [
      "12175\n"
     ]
    }
   ],
   "source": [
    "a=int(input(\"Enter value for the a:\"))\n",
    "b=int(input(\"Enter value for the b:\"))\n",
    "def sum_cube(a,b):\n",
    "    return(int(a)**3+int(b)**3)\n",
    "\n",
    "sum_cube=sum_cube(a,b)\n",
    "print(sum_cube)"
   ]
  },
  {
   "cell_type": "code",
   "execution_count": 8,
   "id": "1664b6fe-b578-43d7-9784-e6648ebb8e16",
   "metadata": {},
   "outputs": [
    {
     "name": "stdin",
     "output_type": "stream",
     "text": [
      "Enter value for the a: 2\n",
      "Enter value for the b: 3\n"
     ]
    },
    {
     "name": "stdout",
     "output_type": "stream",
     "text": [
      "th answer for(a+b)**2 is : 25\n"
     ]
    }
   ],
   "source": [
    "a=int(input(\"Enter value for the a:\"))\n",
    "b=int(input(\"Enter value for the b:\"))\n",
    "def pythagoras(a,b):\n",
    "    return(int(a)**2+(2*int(b)*int(a))+int(b)**2)\n",
    "pythagoras=pythagoras(a,b)\n",
    "print(\"th answer for(a+b)**2 is :\",pythagoras)"
   ]
  },
  {
   "cell_type": "code",
   "execution_count": 9,
   "id": "5402d20b-968c-45dc-a9df-77db3aeaf926",
   "metadata": {},
   "outputs": [],
   "source": [
    "#FILE HANDLING"
   ]
  },
  {
   "cell_type": "code",
   "execution_count": 13,
   "id": "5bd4e2cf-e81b-4280-8ced-9a704fd594eb",
   "metadata": {},
   "outputs": [
    {
     "ename": "SyntaxError",
     "evalue": "(unicode error) 'unicodeescape' codec can't decode bytes in position 2-3: truncated \\UXXXXXXXX escape (287323197.py, line 1)",
     "output_type": "error",
     "traceback": [
      "\u001b[1;36m  Cell \u001b[1;32mIn[13], line 1\u001b[1;36m\u001b[0m\n\u001b[1;33m    writer=pd.ExcelWriter('C:\\Users\\admin\\Python Practice\\Data Science\\test_data.xlsx', engine ='xlsxwriter')\u001b[0m\n\u001b[1;37m                                                                                      ^\u001b[0m\n\u001b[1;31mSyntaxError\u001b[0m\u001b[1;31m:\u001b[0m (unicode error) 'unicodeescape' codec can't decode bytes in position 2-3: truncated \\UXXXXXXXX escape\n"
     ]
    }
   ],
   "source": [
    "writer=pd.ExcelWriter('C:\\Users\\admin\\Python Practice\\Data Science\\test_data.xlsx', engine ='xlsxwriter')\n",
    "emp.to_excel(writer,sheet_name='MainData')\n",
    "writer.save()\n",
    "\n",
    "#CSV\n",
    "emp.to_csv('employee_data.csv')\n",
    "writer.close()"
   ]
  },
  {
   "cell_type": "code",
   "execution_count": null,
   "id": "434c09f1-2e1e-4b00-8d31-0a71e3deb57c",
   "metadata": {},
   "outputs": [],
   "source": []
  }
 ],
 "metadata": {
  "kernelspec": {
   "display_name": "Python 3 (ipykernel)",
   "language": "python",
   "name": "python3"
  },
  "language_info": {
   "codemirror_mode": {
    "name": "ipython",
    "version": 3
   },
   "file_extension": ".py",
   "mimetype": "text/x-python",
   "name": "python",
   "nbconvert_exporter": "python",
   "pygments_lexer": "ipython3",
   "version": "3.11.7"
  }
 },
 "nbformat": 4,
 "nbformat_minor": 5
}
