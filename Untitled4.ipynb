{
 "cells": [
  {
   "cell_type": "code",
   "execution_count": 2,
   "id": "07ae722d-0fa9-4c65-ae07-b16f64e01256",
   "metadata": {},
   "outputs": [
    {
     "name": "stdout",
     "output_type": "stream",
     "text": [
      "[]\n",
      "[1, 4, 6, 'college']\n",
      "[1, 2, 3]\n"
     ]
    }
   ],
   "source": [
    "#LIST\n",
    "\n",
    "l1=[]\n",
    "l2=[1,4,6,\"college\"]\n",
    "l3=list((1,2,3))\n",
    "print(l1)\n",
    "print(l2)\n",
    "print(l3)"
   ]
  },
  {
   "cell_type": "code",
   "execution_count": 4,
   "id": "8aa843d9-facc-4a46-8bf8-5026bc82e3d7",
   "metadata": {},
   "outputs": [
    {
     "data": {
      "text/plain": [
       "'sausage'"
      ]
     },
     "execution_count": 4,
     "metadata": {},
     "output_type": "execute_result"
    }
   ],
   "source": [
    "tp=['pepperani','sausage','mushroom']\n",
    "tp.pop(1)"
   ]
  },
  {
   "cell_type": "code",
   "execution_count": 5,
   "id": "a42bc24d-4340-4df1-a2df-0ebb9476da5f",
   "metadata": {},
   "outputs": [
    {
     "data": {
      "text/plain": [
       "'mushroom'"
      ]
     },
     "execution_count": 5,
     "metadata": {},
     "output_type": "execute_result"
    }
   ],
   "source": [
    "tp.pop()"
   ]
  },
  {
   "cell_type": "code",
   "execution_count": 7,
   "id": "f4ff7252-0db9-4263-bc6a-bc489f48219c",
   "metadata": {},
   "outputs": [
    {
     "name": "stdout",
     "output_type": "stream",
     "text": [
      "['pepperani', 'sausage']\n"
     ]
    }
   ],
   "source": [
    "tp=['pepperani','sausage','mushroom']\n",
    "tp.remove('mushroom')\n",
    "print(tp)"
   ]
  },
  {
   "cell_type": "code",
   "execution_count": 8,
   "id": "3f02a7b4-0b1d-4c46-9dd5-de0cefe7124c",
   "metadata": {},
   "outputs": [
    {
     "name": "stdout",
     "output_type": "stream",
     "text": [
      "['pepperani', 'sausage']\n"
     ]
    }
   ],
   "source": [
    "tp=['pepperani','sausage','mushroom']\n",
    "print(tp[0:2])"
   ]
  },
  {
   "cell_type": "code",
   "execution_count": 9,
   "id": "29b642ad-88eb-41ef-bb76-5c9c13e28129",
   "metadata": {},
   "outputs": [
    {
     "name": "stdout",
     "output_type": "stream",
     "text": [
      "['pepperani', 'sausage', 'mushroom']\n"
     ]
    }
   ],
   "source": [
    "tp=['pepperani','sausage','mushroom']\n",
    "print(tp[0:])"
   ]
  },
  {
   "cell_type": "code",
   "execution_count": 10,
   "id": "aa4cfc3b-dedd-418c-8193-56bd297c7daa",
   "metadata": {},
   "outputs": [
    {
     "name": "stdout",
     "output_type": "stream",
     "text": [
      "['sausage']\n"
     ]
    }
   ],
   "source": [
    "tp=['pepperani','sausage','mushroom']\n",
    "print(tp[1:2])"
   ]
  },
  {
   "cell_type": "code",
   "execution_count": 11,
   "id": "e5ef3f04-01f0-487c-88e2-8a5abb8ba093",
   "metadata": {},
   "outputs": [
    {
     "name": "stdout",
     "output_type": "stream",
     "text": [
      "[]\n"
     ]
    }
   ],
   "source": [
    "tp=['pepperani','sausage','mushroom']\n",
    "print(tp[1:1])"
   ]
  },
  {
   "cell_type": "code",
   "execution_count": 12,
   "id": "819d7794-6c4c-4433-987d-1d1443a5d6e5",
   "metadata": {},
   "outputs": [
    {
     "name": "stdout",
     "output_type": "stream",
     "text": [
      "pepperani\n",
      "sausage\n",
      "mushroom\n"
     ]
    }
   ],
   "source": [
    "for i in range(0, len(tp)):\n",
    "    print(tp[i])"
   ]
  },
  {
   "cell_type": "code",
   "execution_count": 13,
   "id": "15d4c501-8220-404c-987d-130bbe0b185d",
   "metadata": {},
   "outputs": [
    {
     "name": "stdout",
     "output_type": "stream",
     "text": [
      "['pepperani']\n"
     ]
    }
   ],
   "source": [
    "print(tp[:1])"
   ]
  },
  {
   "cell_type": "code",
   "execution_count": 14,
   "id": "e7ba70b2-687d-4e71-abc7-7152581b7116",
   "metadata": {},
   "outputs": [
    {
     "name": "stdout",
     "output_type": "stream",
     "text": [
      "['sausage']\n"
     ]
    }
   ],
   "source": [
    "print(tp[1:2])"
   ]
  },
  {
   "cell_type": "code",
   "execution_count": 15,
   "id": "f888deff-8f80-414a-bd86-4e579177784d",
   "metadata": {},
   "outputs": [
    {
     "name": "stdout",
     "output_type": "stream",
     "text": [
      "['pepperani']\n"
     ]
    }
   ],
   "source": [
    "print(tp[:1])"
   ]
  },
  {
   "cell_type": "code",
   "execution_count": 16,
   "id": "1724bd69-59bc-42b9-99a8-ddf727f47471",
   "metadata": {},
   "outputs": [
    {
     "data": {
      "text/plain": [
       "['pepperani', 'sausage', 'mushroom', 'pepperani', 'sausage', 'mushroom']"
      ]
     },
     "execution_count": 16,
     "metadata": {},
     "output_type": "execute_result"
    }
   ],
   "source": [
    "tp*2"
   ]
  },
  {
   "cell_type": "code",
   "execution_count": 17,
   "id": "c6a6ca38-47f0-4996-8ac5-8ad128502785",
   "metadata": {},
   "outputs": [
    {
     "data": {
      "text/plain": [
       "['pepperani', 'sausage', 'mushroom', 'pepperani', 'sausage', 'mushroom']"
      ]
     },
     "execution_count": 17,
     "metadata": {},
     "output_type": "execute_result"
    }
   ],
   "source": [
    "tp+tp"
   ]
  },
  {
   "cell_type": "code",
   "execution_count": 18,
   "id": "8febb1bf-d759-4193-80c2-3dbb458e41b3",
   "metadata": {},
   "outputs": [
    {
     "data": {
      "text/plain": [
       "'mushroom'"
      ]
     },
     "execution_count": 18,
     "metadata": {},
     "output_type": "execute_result"
    }
   ],
   "source": [
    "tp[-1]"
   ]
  },
  {
   "cell_type": "code",
   "execution_count": 19,
   "id": "51b28b89-1b31-492a-ab7a-b1e772c273b6",
   "metadata": {},
   "outputs": [
    {
     "data": {
      "text/plain": [
       "'pepperani'"
      ]
     },
     "execution_count": 19,
     "metadata": {},
     "output_type": "execute_result"
    }
   ],
   "source": [
    "tp[-3]"
   ]
  },
  {
   "cell_type": "code",
   "execution_count": 21,
   "id": "b662d4bc-82ff-4970-9c61-25c2281610ab",
   "metadata": {},
   "outputs": [
    {
     "name": "stdout",
     "output_type": "stream",
     "text": [
      "['pepperani', 'sausage', 'mushroom', 'onion', 'bacon', 'cheese', 'paneer']\n"
     ]
    }
   ],
   "source": [
    "t1=['pepperani','sausage','mushroom']\n",
    "t2=['onion','bacon','cheese','paneer']\n",
    "t1.extend(t2)\n",
    "print(t1)"
   ]
  },
  {
   "cell_type": "code",
   "execution_count": 22,
   "id": "77460672-1cf4-489b-bc0d-176d823137eb",
   "metadata": {},
   "outputs": [
    {
     "name": "stdout",
     "output_type": "stream",
     "text": [
      "['pepperani', 'sausage', 'mushroom', ['onion', 'bacon', 'cheese', 'paneer']]\n"
     ]
    }
   ],
   "source": [
    "t1=['pepperani','sausage','mushroom']\n",
    "t2=['onion','bacon','cheese','paneer']\n",
    "t1.append(t2)\n",
    "print(t1)"
   ]
  },
  {
   "cell_type": "code",
   "execution_count": 27,
   "id": "83a14e0e-1567-4b5f-a24e-9ea307a1859e",
   "metadata": {},
   "outputs": [
    {
     "name": "stdout",
     "output_type": "stream",
     "text": [
      "['mushroom', 'pepperani', 'sausage']\n"
     ]
    }
   ],
   "source": [
    "#SORT AND REVERSE\n",
    "t1=['pepperani','sausage','mushroom']\n",
    "\n",
    "t1.sort()\n",
    "print(t1)"
   ]
  },
  {
   "cell_type": "code",
   "execution_count": 28,
   "id": "5cbb9f2c-28b9-426c-b919-25cc2ccc3053",
   "metadata": {},
   "outputs": [
    {
     "name": "stdout",
     "output_type": "stream",
     "text": [
      "['pepperani', 'sausage', 'mushroom']\n",
      "['sausage', 'pepperani', 'mushroom']\n"
     ]
    }
   ],
   "source": [
    "t1=['pepperani','sausage','mushroom']\n",
    "print(t1)\n",
    "t1.sort(reverse=True)\n",
    "print(t1)"
   ]
  },
  {
   "cell_type": "code",
   "execution_count": 30,
   "id": "9855d9df-5773-4a48-9dbe-01becf25ee85",
   "metadata": {},
   "outputs": [
    {
     "name": "stdout",
     "output_type": "stream",
     "text": [
      "['pepperani', 'mushroom', 'sausage']\n"
     ]
    }
   ],
   "source": [
    "t1.sort(reverse=True,key=lambda x:len(x))\n",
    "print(t1)"
   ]
  },
  {
   "cell_type": "code",
   "execution_count": 31,
   "id": "be53f349-1c07-474f-9d99-9ba04e981fa9",
   "metadata": {},
   "outputs": [
    {
     "name": "stdout",
     "output_type": "stream",
     "text": [
      "[0.5, 1.5, 2.0]\n"
     ]
    }
   ],
   "source": [
    "p1=[1.50,2.00,0.50]\n",
    "p1.sort()\n",
    "print(p1)"
   ]
  },
  {
   "cell_type": "code",
   "execution_count": 32,
   "id": "b4e49c40-7a10-4a17-94c9-d7967d8226f7",
   "metadata": {},
   "outputs": [
    {
     "name": "stdout",
     "output_type": "stream",
     "text": [
      "[0.5, 1.5, 2.0]\n"
     ]
    }
   ],
   "source": [
    "p1.sort(reverse=False)\n",
    "print(p1)"
   ]
  },
  {
   "cell_type": "code",
   "execution_count": 33,
   "id": "67c5c12c-bc7f-497c-8210-1da7b04af79f",
   "metadata": {},
   "outputs": [
    {
     "name": "stdout",
     "output_type": "stream",
     "text": [
      "[2.0, 1.5, 0.5]\n"
     ]
    }
   ],
   "source": [
    "p1.sort(reverse=True)\n",
    "print(p1)"
   ]
  },
  {
   "cell_type": "code",
   "execution_count": 35,
   "id": "17c88d91-bbb5-4911-9c1d-77979c325413",
   "metadata": {},
   "outputs": [
    {
     "name": "stdout",
     "output_type": "stream",
     "text": [
      "11\n"
     ]
    }
   ],
   "source": [
    "c=lambda a:a+10\n",
    "print(c(1))"
   ]
  },
  {
   "cell_type": "code",
   "execution_count": 36,
   "id": "d90c5e1b-dee0-45fb-ba69-b609d5147b04",
   "metadata": {},
   "outputs": [
    {
     "name": "stdout",
     "output_type": "stream",
     "text": [
      "11\n"
     ]
    }
   ],
   "source": [
    "def fun(c):\n",
    "    return (c+10)\n",
    "a=fun(1)\n",
    "print(a)"
   ]
  },
  {
   "cell_type": "code",
   "execution_count": 38,
   "id": "27a93d91-ba32-4e1e-9a47-3c656c3866c1",
   "metadata": {},
   "outputs": [
    {
     "data": {
      "text/plain": [
       "['pepperani', 'sausage', 'mushroom']"
      ]
     },
     "execution_count": 38,
     "metadata": {},
     "output_type": "execute_result"
    }
   ],
   "source": [
    "tp"
   ]
  },
  {
   "cell_type": "code",
   "execution_count": 39,
   "id": "60ce91b7-5d7f-497b-aff5-d353f651dc67",
   "metadata": {},
   "outputs": [
    {
     "name": "stdout",
     "output_type": "stream",
     "text": [
      "['sausage', 'mushroom', 'pepperani']\n"
     ]
    }
   ],
   "source": [
    "def fun_len(x):\n",
    "    return(len(x))\n",
    "tp.sort(reverse=False ,key=len)\n",
    "print(tp)"
   ]
  },
  {
   "cell_type": "code",
   "execution_count": 40,
   "id": "7f0ea600-9add-4bb2-b541-2a3a0a56a200",
   "metadata": {},
   "outputs": [
    {
     "name": "stdout",
     "output_type": "stream",
     "text": [
      "['sausage', 'onion', 'mushroom', 'pepperani']\n"
     ]
    }
   ],
   "source": [
    "tp.insert(-2,'onion')\n",
    "print(tp)"
   ]
  },
  {
   "cell_type": "code",
   "execution_count": 43,
   "id": "250ae7ad-5822-46c3-9e25-adf1a13a7cfe",
   "metadata": {},
   "outputs": [
    {
     "name": "stdout",
     "output_type": "stream",
     "text": [
      "(1, 2, 'College', 9)\n",
      "()\n",
      "(1, 3, 5, 9, 'Hello')\n"
     ]
    }
   ],
   "source": [
    "#TUPPLE\n",
    "\n",
    "t1=(1,2,'College',9)\n",
    "t2=()\n",
    "t3=(1,3,5,9,'Hello')\n",
    "print(t1)\n",
    "print(t2)\n",
    "print(t3)"
   ]
  },
  {
   "cell_type": "code",
   "execution_count": 44,
   "id": "7b518673-6e2c-43c4-b628-b3d73d26de6f",
   "metadata": {},
   "outputs": [
    {
     "name": "stdout",
     "output_type": "stream",
     "text": [
      "(1, 2, 'College', 9, 1, 2, 'College', 9)\n"
     ]
    }
   ],
   "source": [
    "print(t1*2)"
   ]
  },
  {
   "cell_type": "code",
   "execution_count": 45,
   "id": "cd5d3a02-ec01-4fb8-817d-05b1d99a7ed7",
   "metadata": {},
   "outputs": [
    {
     "name": "stdout",
     "output_type": "stream",
     "text": [
      "{'food', 'shelter', 'water', 'air'}\n",
      "{'cloths', 'food', 'water', 'shelter', 'air'}\n",
      "{'food', 'water', 'shelter', 'air'}\n"
     ]
    }
   ],
   "source": [
    "#SET\n",
    "\n",
    "\n",
    "s1={'water','air','food'}\n",
    "s1.add('shelter')\n",
    "print(s1)\n",
    "s1.add('cloths')\n",
    "print(s1)\n",
    "s1.pop()\n",
    "print(s1)"
   ]
  },
  {
   "cell_type": "code",
   "execution_count": 46,
   "id": "c86048cf-70f0-42ed-967c-d8654f0103eb",
   "metadata": {},
   "outputs": [
    {
     "name": "stdout",
     "output_type": "stream",
     "text": [
      "{'fruit': 'apple', 'fruit1': 'banana', 'fruit2': 'mango', 'fruit3': 'chikoo', 'veg1': 'brinjal'}\n",
      "{'fruit': 'apple', 'fruit1': 'banana', 'fruit2': 'mango', 'fruit3': 'chikoo', 'veg1': 'brinjal', 'veg2': 'onion'}\n",
      "{'fruit': 'apple', 'fruit1': 'banana', 'fruit2': 'mango', 'fruit3': 'chikoo', 'veg1': 'brinjal'}\n"
     ]
    }
   ],
   "source": [
    "#DICTIONARY\n",
    "\n",
    "d1={'fruit':'apple','fruit1':'banana','fruit2':'mango','fruit3':'chikoo'}\n",
    "d1.update({'veg1':'brinjal'})\n",
    "print(d1)\n",
    "d1.update({'veg2':'onion'})\n",
    "print(d1)\n",
    "d1.pop('veg2')\n",
    "print(d1)"
   ]
  },
  {
   "cell_type": "code",
   "execution_count": 47,
   "id": "c66d4713-5f4c-4be3-bd40-ad58550fb814",
   "metadata": {},
   "outputs": [
    {
     "name": "stdout",
     "output_type": "stream",
     "text": [
      "mango\n"
     ]
    }
   ],
   "source": [
    "print(d1.get('fruit2'))"
   ]
  },
  {
   "cell_type": "code",
   "execution_count": 48,
   "id": "3e5d66e1-95a8-4698-b748-a2bf578c14ea",
   "metadata": {},
   "outputs": [
    {
     "name": "stdout",
     "output_type": "stream",
     "text": [
      "dict_items([('fruit', 'apple'), ('fruit1', 'banana'), ('fruit2', 'mango'), ('fruit3', 'chikoo'), ('veg1', 'brinjal')])\n"
     ]
    }
   ],
   "source": [
    "print(d1.items())"
   ]
  },
  {
   "cell_type": "code",
   "execution_count": null,
   "id": "21fcc394-7f25-4114-b2cf-c556a54f119d",
   "metadata": {},
   "outputs": [],
   "source": []
  }
 ],
 "metadata": {
  "kernelspec": {
   "display_name": "Python 3 (ipykernel)",
   "language": "python",
   "name": "python3"
  },
  "language_info": {
   "codemirror_mode": {
    "name": "ipython",
    "version": 3
   },
   "file_extension": ".py",
   "mimetype": "text/x-python",
   "name": "python",
   "nbconvert_exporter": "python",
   "pygments_lexer": "ipython3",
   "version": "3.11.7"
  }
 },
 "nbformat": 4,
 "nbformat_minor": 5
}
